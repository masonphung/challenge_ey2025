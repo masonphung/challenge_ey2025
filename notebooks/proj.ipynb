{
 "cells": [
  {
   "cell_type": "markdown",
   "metadata": {},
   "source": [
    "<h1 style=\"color:rgb(8, 72, 135)\">The 2025 EY Open Science AI and Data Challenge: Cooling Urban Heat Islands (External Participants)</h1>\n",
    "<h2>Team Vietnamese</h2>\n",
    "\n",
    "- Ranked <span style=\"color:rgb(8, 72, 135)\">67th global</span> among 10,000+ participants (each team max 3 members).\n",
    "\n",
    "- Ranked <span style=\"color:rgb(8, 72, 135)\">7th in Australia</span>.\n",
    "\n",
    "Last update: 2025-Jun-4\n",
    "\n",
    "The notebook contains our technical Python work for the competition, including the data manipulation, feature selection, model training & feature evaluation process.\n",
    "\n",
    "<h3>Workflow brief:</h3>\n",
    "\n",
    "- I. Load libaries & dependencies\n",
    "\n",
    "- II. Process data \n",
    "\n",
    "- III. Machine Learning\n",
    "\n",
    "<h3>Our comments:</h3>\n",
    "\n",
    "<h5 style=\"color:rgb(0, 210, 255)\">\n",
    "\n",
    "The success of the project is heavily focused on data manipulation and feature engineering. There's not much to do in the modelling step. Correct data processing & cleaning and feature selection is the key to improve model's performance in this competition.\n",
    "\n",
    "</h5>"
   ]
  },
  {
   "cell_type": "markdown",
   "metadata": {},
   "source": [
    "## I. Import libraries & dependencies\n",
    "\n",
    "Let's import important libraries that we'll use in the notebook."
   ]
  },
  {
   "cell_type": "code",
   "execution_count": null,
   "metadata": {},
   "outputs": [],
   "source": [
    "# run this to install these packages\n",
    "# pip install -r requirements.txt \n",
    "\n",
    "# Supress Warnings \n",
    "import warnings\n",
    "warnings.filterwarnings('ignore')\n",
    "\n",
    "# Data Manipulation\n",
    "import os # for file management\n",
    "import pandas as pd\n",
    "import numpy as np\n",
    "\n",
    "# Machine Learning\n",
    "import xgboost as xgb\n",
    "from sklearn.preprocessing import StandardScaler\n",
    "import shap"
   ]
  },
  {
   "cell_type": "markdown",
   "metadata": {},
   "source": [
    "As the notebook is stored in `notebooks` directory, we need to change the working directory to the root to make it easier to import the modules or datasets"
   ]
  },
  {
   "cell_type": "code",
   "execution_count": 2,
   "metadata": {},
   "outputs": [],
   "source": [
    "# Change the working directory to the projec's root directory\n",
    "project_root = os.path.abspath(os.path.join(os.getcwd(), \"..\"))\n",
    "os.chdir(project_root)\n",
    "os.getcwd()\n",
    "\n",
    "%run src/config.py"
   ]
  },
  {
   "cell_type": "markdown",
   "metadata": {},
   "source": [
    "Import `data_processing` module, which contain Satallite data processing classes & functions. Function details can be found in the module file at `src/data_processing.py`"
   ]
  },
  {
   "cell_type": "code",
   "execution_count": 20,
   "metadata": {},
   "outputs": [],
   "source": [
    "from src.data_processing import SatelliteDataExtractor, SatelliteDataManipulator\n",
    "from src import kml_processor, utils\n",
    "from src.modelling import Modelling"
   ]
  },
  {
   "cell_type": "markdown",
   "metadata": {},
   "source": [
    "## II. Data processing\n",
    "\n",
    "\n",
    "\n",
    "In the model, we'll use 3 sources of data:\n",
    "1. <span style=\"color:rgb(8, 72, 135)\">Temperature data (.csv)</span>: Include the longitude and latitude of 11.2k places, with the UHI index of each place. The UHI index is the model target variable. Note that longitude and latitude cannot be used as model features (competition rules) but can be used to help manipulating other data.\n",
    "\n",
    "2. <span style=\"color:rgb(8, 72, 135\">European Space Agency's Sentinel-2 & NASA Landsat satellite data (.tiff)</span>: Earth ground optical observed data from ESA & NASA satellite, the data is downloaded from Microsoft's Planetary Computer using API then preprocessed for modelling. Spectral band values collected will be used as features and used to compute band combination such as the Normalized Difference Vegetation Index(NDVI),... Note that focal buffer, which is of each data point will be considered and the buffered band values will be computed and used as model features. \n",
    "\n",
    "3. <span style=\"color:rgb(8, 72, 135)\">Building footprint (.kml)</span>: 2D building boundaries in New York City. The data would help to compute building count & density features, which can be valuable to the model as the exist of building is know to potentially affect local weather.\n",
    "\n",
    "Terms: \n",
    "- Spectral band values: The specific wavelengths of light captured by satellite sensors, which can be used to analyze different features of the Earth's surface (e.g., vegetation, water, urban areas).\n",
    "- Band combination(s): Calculated indice(s) or image(s) created by combining different spectral bands from satellite data (like Sentinel-2 or Landsat) to highlight specific features on Earth.\n",
    "\n",
    "- Focal buffer: A spatial analysis technique that applies a buffer (area around a point or pixel) and calculates a summary statistic (like mean or max) of nearby values within that area. Often used to smooth or highlight patterns in raster data. Focal buffer at different sizes will be considered in the model.\n",
    "\n",
    "### A. API Import sentinel-2 and Landsat data\n",
    "\n",
    "<h5 style=\"color:rgb(8, 72, 135)\">Move straight to part C/2 to skip the data collecting and calculation process (takes approximately 40-50mins)</h5>"
   ]
  },
  {
   "cell_type": "markdown",
   "metadata": {},
   "source": [
    "We'll get the data from source, wrangle the imported data, then output them as `.tiff` files for further processing.\n",
    "- Define the boundary of the area of interest by using the lower left and the upper right coordinates.\n",
    "- Our date of intest is from 2021-06-01 to 2021-09-01\n",
    "\n",
    "Step 1: Initialize `SatelliteDataExtractor` class with the coordinates & time window parameters. \n",
    "\n",
    "Step 2: Then call the `process_data` function, which:\n",
    "1. Searches for the preferred dataset on the server and retrives it by an API connection to Microsoft Planetary Computer server.\n",
    "2. Manipulates the data based on the chosen data type. The function automatically handles the data based on the `dataset_type` set. For example:\n",
    "    - If `dataset_type`=`sentinel2`, after getting the data, the functions find the median value of each band and use it as the final value for that band at the position.\n",
    "    - If `dataset_type`=`landsat`, as we only have `lwir11` - surface temperature (in K'), the function scales the value, converts the temperature value from Kelvin to Celsius\n",
    "3. Saves the processed data as `.tiff` files in the `data/interim` directory.\n",
    "\n",
    "Refer to `src/data_processing.py` for more details on the `SatelliteDataExtractor` class and its methods."
   ]
  },
  {
   "cell_type": "code",
   "execution_count": null,
   "metadata": {},
   "outputs": [],
   "source": [
    "processor = SatelliteDataExtractor(\n",
    "    lower_left=(40.75, -74.01), \n",
    "    upper_right=(40.88, -73.86), \n",
    "    time_window=\"2021-06-01/2021-09-01\"\n",
    ")\n",
    "\n",
    "# Process and save Sentinel-2 data\n",
    "processor.process_data(\n",
    "    dataset_type=\"sentinel2\", \n",
    "    filename=\"data/interim/Sen2.tiff\", \n",
    "    bands=[\"B01\", \"B02\", \"B03\", \"B04\",\"B05\", \"B06\",\"B07\",\"B8A\", \"B08\", \"B11\", \"B12\"]\n",
    "    # bands=[\"B01\", \"B02\", \"B03\", \"B04\",\"B05\", \"B06\",\"B07\",\"B8A\", \"B08\", \"B11\", \"B12\"], \n",
    ")\n",
    "\n",
    "# Process and save Landsat data\n",
    "processor.process_data(\n",
    "    dataset_type=\"landsat\", \n",
    "    filename=\"data/interim/Landsat_LST.tiff\", \n",
    "    bands=[\"lwir11\"], \n",
    "    scene=2\n",
    ")"
   ]
  },
  {
   "cell_type": "markdown",
   "metadata": {},
   "source": [
    "### B. Process KML dataset\n",
    "\n",
    "The KML file `Building_Footprint.kml`, which contains the bounding boxes of the buildings in New York City, will be processed using `src.kml_processor`.\n",
    "- First, parse the KML file and extract building footprints\n",
    "- Define bounding box and create grids within the bounding box\n",
    "- Define the functions to calculate building coverage in each grid\n",
    "- Find the grid where the corresponding longitude and latitude belong to\n",
    "- Assign the values of building coverage and building count to the original datasets\n",
    "\n",
    "As the KML file is also required for both training & test sets, we'll handle for both cases and save the data at `data/interim` directory.\n",
    "- Training set: `data/interim/ground_df.csv`\n",
    "- Test set: `data/interim/test_ground_df.csv`\n",
    "\n",
    "Detailed guide to extract the KML data can be found at `notebooks/process_kml.ipynb`"
   ]
  },
  {
   "cell_type": "code",
   "execution_count": 4,
   "metadata": {},
   "outputs": [
    {
     "name": "stdout",
     "output_type": "stream",
     "text": [
      "Bounding Box: \n",
      "Min Lat: 40.751285\n",
      "Max Lat: 40.869321\n",
      "Min Lon: -74.0022894813697\n",
      "Max Lon: -73.869205\n",
      "Processing for cell size: 250\n",
      "Statistics:\n",
      "Training set:\n",
      "building_coverage mean: 0.31\n",
      "building_count mean: 13.54\n",
      "Test set:\n",
      "building_coverage mean: 0.32\n",
      "building_count mean: 13.6\n",
      "\n",
      "\n",
      "Processing for cell size: 500\n",
      "Statistics:\n",
      "Training set:\n",
      "building_coverage mean: 0.3\n",
      "building_count mean: 42.54\n",
      "Test set:\n",
      "building_coverage mean: 0.31\n",
      "building_count mean: 41.95\n",
      "\n",
      "\n",
      "Processing for cell size: 1000\n",
      "Statistics:\n",
      "Training set:\n",
      "building_coverage mean: 0.29\n",
      "building_count mean: 151.1\n",
      "Test set:\n",
      "building_coverage mean: 0.29\n",
      "building_count mean: 149.67\n",
      "\n",
      "\n",
      "Data merged with the final ground training dataset\n",
      "Data merged with the final ground test dataset\n",
      "\n",
      "Combined training data saved at:data/interim/ground_df.csv\n",
      "Combined test data saved at: data/interim/test_ground_df.csv\n"
     ]
    },
    {
     "data": {
      "text/plain": [
       "<src.kml.process_KML at 0x105d3e3d0>"
      ]
     },
     "execution_count": 4,
     "metadata": {},
     "output_type": "execute_result"
    }
   ],
   "source": [
    "kml_processor.process_KML(\n",
    "    kml_path=\"data/raw/Building_Footprint.kml\", \n",
    "    cell_sizes=[250, 500, 1000], \n",
    "    feature_names=['building_coverage', 'building_count']\n",
    ")"
   ]
  },
  {
   "cell_type": "markdown",
   "metadata": {},
   "source": [
    "### C. Data manipulation for model training"
   ]
  },
  {
   "cell_type": "markdown",
   "metadata": {},
   "source": [
    "<h4 style=\"color:rgb(8, 72, 135)\">1. Extract corresponding band values</h4>"
   ]
  },
  {
   "cell_type": "markdown",
   "metadata": {},
   "source": [
    "There are two types of values that we need to extract from the `.tiff` files:\n",
    "- The band values at the coordinates of the training data points (longitude, latitude)\n",
    "- The band indices calculated from the band values, such as NDVI, NDBI, etc.\n",
    "\n",
    "We'll define the parameters for the band values extraction, including:\n",
    "- `sentinel_bands`: The list of Sentinel-2 bands to be extracted. The bands are specified by their names, such as 'B02', 'B03', etc.\n",
    "- `landsat_bands`: The list of Landsat bands to be extracted. The bands are specified by their names, such as 'lwir11'.\n",
    "- `buffer_size`: The size of the focal buffer to be applied to the band values. This will be used to compute the mean value of the band values within the buffer area."
   ]
  },
  {
   "cell_type": "code",
   "execution_count": 18,
   "metadata": {},
   "outputs": [],
   "source": [
    "# Define the bands and buffer sizes for manipulation\n",
    "sentinel_bands = [\"B01\", \"B02\", \"B03\", \"B04\", \"B05\", \"B06\",\"B07\",\"B8A\", \"B08\", \"B11\", \"B12\"]\n",
    "landsat_bands = [\"lwir11\"]\n",
    "buffer_sizes = [0, 50, 100, 200, 250, 300, 500]\n",
    "\n",
    "# Initialize our manipulator object\n",
    "manipulator = SatelliteDataManipulator(\n",
    "    sentinel_tiff=\"data/interim/Sen2.tiff\",\n",
    "    landsat_tiff=\"data/interim/Landsat_LST.tiff\",\n",
    "    ground_df_path=\"data/interim/ground_df.csv\",\n",
    "    sentinel_bands=sentinel_bands,\n",
    "    landsat_bands=landsat_bands,\n",
    "    buffer_sizes=buffer_sizes\n",
    ")"
   ]
  },
  {
   "cell_type": "markdown",
   "metadata": {},
   "source": [
    "<h5 style=\"color:grey\">Extracting band values is not fundamental for model checking, `extracted` data can be found at data/interim</h5>\n",
    "\n",
    "<h5 style=\"color:rgb(8, 72, 135)\">Step 1</h5> \n",
    "\n",
    "- Load 2 `.tiff` files of Sentinel-2 and Landsat data, then map them with the coordinates in the training file. \n",
    "- Calculate focal buffer for each band value at the coordinates, which is the mean of the band values within a certain radius around the point"
   ]
  },
  {
   "cell_type": "code",
   "execution_count": null,
   "metadata": {},
   "outputs": [],
   "source": [
    "# Start extracting the band values, at the same time calculate their values when buffered\n",
    "extracted_df = manipulator.extract_band_values()"
   ]
  },
  {
   "cell_type": "markdown",
   "metadata": {},
   "source": [
    "Otherwise, load the pre-extracted data instead of runing the extration."
   ]
  },
  {
   "cell_type": "code",
   "execution_count": null,
   "metadata": {},
   "outputs": [],
   "source": [
    "# Load the extracted data\n",
    "extracted_df = pd.read_csv(\"data/processed/extracted_df.csv\")"
   ]
  },
  {
   "cell_type": "markdown",
   "metadata": {},
   "source": [
    "<h5 style=\"color:rgb(8, 72, 135)\">Step 2</h5> \n",
    "\n",
    "Calculate all the band combination indices. The combinations are defined in the `data_processing` module. Here's the list of the combinations and their calculation formulas:\n",
    "- NDVI = (B08 - B04) / (B08 + B04)\n",
    "- NDBI = (B11 - B08) / (B11 + B08)\n",
    "- NDWI = (B03 - B08) / (B03 + B08)\n",
    "- MNDWI = (B03 - B11) / (B03 + B11)\n",
    "- EVI = 2.5 * (B08 - B04) / (B08 + 6 * B04 - 7.5 * B02 + 1)\n",
    "- SAVI = ((B08 - B04) / (B08 + B04 + 0.5)) * 1.5\n",
    "- NBAI = ((B11 + B12) - B08) / ((B11 + B12) + B08)\n",
    "\n",
    "Then we'll calculate each indice with focal buffer applied as well."
   ]
  },
  {
   "cell_type": "code",
   "execution_count": null,
   "metadata": {},
   "outputs": [],
   "source": [
    "# Calculate the band combination indices\n",
    "sat_data = manipulator.calc_band_indices(extracted_df)"
   ]
  },
  {
   "cell_type": "code",
   "execution_count": null,
   "metadata": {},
   "outputs": [],
   "source": [
    "# Only run when needed to keep a version of the data for reproducibility\n",
    "sat_data.to_csv(\"data/processed/focal_buffered_bands.csv\", index=False)\n",
    "sat_data"
   ]
  },
  {
   "cell_type": "markdown",
   "metadata": {},
   "source": [
    "<h4 style=\"color:rgb(8, 72, 135)\"> 2. Load ground data and combine with the sentinel-2 dataset </h4>"
   ]
  },
  {
   "cell_type": "code",
   "execution_count": null,
   "metadata": {},
   "outputs": [],
   "source": [
    "# Load ground dataset\n",
    "ground_df = pd.read_csv(\"data/interim/ground_df.csv\")\n",
    "sat_data = pd.read_csv(\"data/processed/focal_buffered_bands.csv\")\n",
    "# Simply use `pd.concat` as we've already get the data based on each lon & lat of ground_df\n",
    "uhi_data = pd.concat([ground_df,sat_data], axis=1)"
   ]
  },
  {
   "cell_type": "code",
   "execution_count": null,
   "metadata": {},
   "outputs": [],
   "source": [
    "# Let's take a quick look at the data\n",
    "uhi_data.describe()"
   ]
  },
  {
   "cell_type": "markdown",
   "metadata": {},
   "source": [
    "*We now have `satground_data` - a combination of the ground UHI data and the sentinel-2 indices data*"
   ]
  },
  {
   "cell_type": "markdown",
   "metadata": {},
   "source": [
    "<h4 style=\"color:rgb(8, 72, 135)\"> 3. Missing values and duplicates </h4>\n",
    "\n",
    "Let's check for missing values and duplicates by using `DataCleaner` functions"
   ]
  },
  {
   "cell_type": "code",
   "execution_count": 7,
   "metadata": {},
   "outputs": [
    {
     "data": {
      "text/html": [
       "<div>\n",
       "<style scoped>\n",
       "    .dataframe tbody tr th:only-of-type {\n",
       "        vertical-align: middle;\n",
       "    }\n",
       "\n",
       "    .dataframe tbody tr th {\n",
       "        vertical-align: top;\n",
       "    }\n",
       "\n",
       "    .dataframe thead th {\n",
       "        text-align: right;\n",
       "    }\n",
       "</style>\n",
       "<table border=\"1\" class=\"dataframe\">\n",
       "  <thead>\n",
       "    <tr style=\"text-align: right;\">\n",
       "      <th></th>\n",
       "      <th>null_count</th>\n",
       "      <th>blank_count</th>\n",
       "      <th>total_missing</th>\n",
       "      <th>null_percent</th>\n",
       "      <th>blank_percent</th>\n",
       "      <th>total_missing_percent</th>\n",
       "    </tr>\n",
       "  </thead>\n",
       "  <tbody>\n",
       "    <tr>\n",
       "      <th>Longitude</th>\n",
       "      <td>0</td>\n",
       "      <td>0</td>\n",
       "      <td>0</td>\n",
       "      <td>0.0</td>\n",
       "      <td>0.0</td>\n",
       "      <td>0.0</td>\n",
       "    </tr>\n",
       "    <tr>\n",
       "      <th>EVI</th>\n",
       "      <td>0</td>\n",
       "      <td>0</td>\n",
       "      <td>0</td>\n",
       "      <td>0.0</td>\n",
       "      <td>0.0</td>\n",
       "      <td>0.0</td>\n",
       "    </tr>\n",
       "    <tr>\n",
       "      <th>lwir11_buffer300</th>\n",
       "      <td>0</td>\n",
       "      <td>0</td>\n",
       "      <td>0</td>\n",
       "      <td>0.0</td>\n",
       "      <td>0.0</td>\n",
       "      <td>0.0</td>\n",
       "    </tr>\n",
       "    <tr>\n",
       "      <th>lwir11_buffer500</th>\n",
       "      <td>0</td>\n",
       "      <td>0</td>\n",
       "      <td>0</td>\n",
       "      <td>0.0</td>\n",
       "      <td>0.0</td>\n",
       "      <td>0.0</td>\n",
       "    </tr>\n",
       "    <tr>\n",
       "      <th>NDVI</th>\n",
       "      <td>0</td>\n",
       "      <td>0</td>\n",
       "      <td>0</td>\n",
       "      <td>0.0</td>\n",
       "      <td>0.0</td>\n",
       "      <td>0.0</td>\n",
       "    </tr>\n",
       "    <tr>\n",
       "      <th>...</th>\n",
       "      <td>...</td>\n",
       "      <td>...</td>\n",
       "      <td>...</td>\n",
       "      <td>...</td>\n",
       "      <td>...</td>\n",
       "      <td>...</td>\n",
       "    </tr>\n",
       "    <tr>\n",
       "      <th>B06_buffer200</th>\n",
       "      <td>0</td>\n",
       "      <td>0</td>\n",
       "      <td>0</td>\n",
       "      <td>0.0</td>\n",
       "      <td>0.0</td>\n",
       "      <td>0.0</td>\n",
       "    </tr>\n",
       "    <tr>\n",
       "      <th>B06_buffer250</th>\n",
       "      <td>0</td>\n",
       "      <td>0</td>\n",
       "      <td>0</td>\n",
       "      <td>0.0</td>\n",
       "      <td>0.0</td>\n",
       "      <td>0.0</td>\n",
       "    </tr>\n",
       "    <tr>\n",
       "      <th>B06_buffer300</th>\n",
       "      <td>0</td>\n",
       "      <td>0</td>\n",
       "      <td>0</td>\n",
       "      <td>0.0</td>\n",
       "      <td>0.0</td>\n",
       "      <td>0.0</td>\n",
       "    </tr>\n",
       "    <tr>\n",
       "      <th>B06_buffer500</th>\n",
       "      <td>0</td>\n",
       "      <td>0</td>\n",
       "      <td>0</td>\n",
       "      <td>0.0</td>\n",
       "      <td>0.0</td>\n",
       "      <td>0.0</td>\n",
       "    </tr>\n",
       "    <tr>\n",
       "      <th>NBAI_buffer500</th>\n",
       "      <td>0</td>\n",
       "      <td>0</td>\n",
       "      <td>0</td>\n",
       "      <td>0.0</td>\n",
       "      <td>0.0</td>\n",
       "      <td>0.0</td>\n",
       "    </tr>\n",
       "  </tbody>\n",
       "</table>\n",
       "<p>143 rows × 6 columns</p>\n",
       "</div>"
      ],
      "text/plain": [
       "                  null_count  blank_count  total_missing  null_percent  \\\n",
       "Longitude                  0            0              0           0.0   \n",
       "EVI                        0            0              0           0.0   \n",
       "lwir11_buffer300           0            0              0           0.0   \n",
       "lwir11_buffer500           0            0              0           0.0   \n",
       "NDVI                       0            0              0           0.0   \n",
       "...                      ...          ...            ...           ...   \n",
       "B06_buffer200              0            0              0           0.0   \n",
       "B06_buffer250              0            0              0           0.0   \n",
       "B06_buffer300              0            0              0           0.0   \n",
       "B06_buffer500              0            0              0           0.0   \n",
       "NBAI_buffer500             0            0              0           0.0   \n",
       "\n",
       "                  blank_percent  total_missing_percent  \n",
       "Longitude                   0.0                    0.0  \n",
       "EVI                         0.0                    0.0  \n",
       "lwir11_buffer300            0.0                    0.0  \n",
       "lwir11_buffer500            0.0                    0.0  \n",
       "NDVI                        0.0                    0.0  \n",
       "...                         ...                    ...  \n",
       "B06_buffer200               0.0                    0.0  \n",
       "B06_buffer250               0.0                    0.0  \n",
       "B06_buffer300               0.0                    0.0  \n",
       "B06_buffer500               0.0                    0.0  \n",
       "NBAI_buffer500              0.0                    0.0  \n",
       "\n",
       "[143 rows x 6 columns]"
      ]
     },
     "execution_count": 7,
     "metadata": {},
     "output_type": "execute_result"
    }
   ],
   "source": [
    "utils.report_missing(uhi_data)"
   ]
  },
  {
   "cell_type": "code",
   "execution_count": 6,
   "metadata": {},
   "outputs": [
    {
     "name": "stdout",
     "output_type": "stream",
     "text": [
      "No duplicate rows found.\n"
     ]
    }
   ],
   "source": [
    "utils.report_duplicates(uhi_data)"
   ]
  },
  {
   "cell_type": "code",
   "execution_count": 5,
   "metadata": {},
   "outputs": [
    {
     "data": {
      "text/html": [
       "<div>\n",
       "<style scoped>\n",
       "    .dataframe tbody tr th:only-of-type {\n",
       "        vertical-align: middle;\n",
       "    }\n",
       "\n",
       "    .dataframe tbody tr th {\n",
       "        vertical-align: top;\n",
       "    }\n",
       "\n",
       "    .dataframe thead th {\n",
       "        text-align: right;\n",
       "    }\n",
       "</style>\n",
       "<table border=\"1\" class=\"dataframe\">\n",
       "  <thead>\n",
       "    <tr style=\"text-align: right;\">\n",
       "      <th></th>\n",
       "      <th>Longitude</th>\n",
       "      <th>Latitude</th>\n",
       "      <th>datetime</th>\n",
       "      <th>UHI Index</th>\n",
       "      <th>building_coverage_250</th>\n",
       "      <th>building_count_250</th>\n",
       "      <th>building_coverage_500</th>\n",
       "      <th>building_count_500</th>\n",
       "      <th>building_coverage_1000</th>\n",
       "      <th>building_count_1000</th>\n",
       "      <th>...</th>\n",
       "      <th>EVI_buffer300</th>\n",
       "      <th>SAVI_buffer300</th>\n",
       "      <th>NBAI_buffer300</th>\n",
       "      <th>NDVI_buffer500</th>\n",
       "      <th>NDBI_buffer500</th>\n",
       "      <th>NDWI_buffer500</th>\n",
       "      <th>MNDWI_buffer500</th>\n",
       "      <th>EVI_buffer500</th>\n",
       "      <th>SAVI_buffer500</th>\n",
       "      <th>NBAI_buffer500</th>\n",
       "    </tr>\n",
       "  </thead>\n",
       "  <tbody>\n",
       "    <tr>\n",
       "      <th>0</th>\n",
       "      <td>-73.909167</td>\n",
       "      <td>40.813107</td>\n",
       "      <td>24-07-2021 15:53</td>\n",
       "      <td>1.030289</td>\n",
       "      <td>0.368234</td>\n",
       "      <td>22</td>\n",
       "      <td>0.216605</td>\n",
       "      <td>44</td>\n",
       "      <td>0.297667</td>\n",
       "      <td>212</td>\n",
       "      <td>...</td>\n",
       "      <td>1.385567</td>\n",
       "      <td>0.410695</td>\n",
       "      <td>0.274953</td>\n",
       "      <td>0.278454</td>\n",
       "      <td>-0.027976</td>\n",
       "      <td>-0.294164</td>\n",
       "      <td>-0.268398</td>\n",
       "      <td>1.325166</td>\n",
       "      <td>0.417626</td>\n",
       "      <td>0.265604</td>\n",
       "    </tr>\n",
       "    <tr>\n",
       "      <th>1</th>\n",
       "      <td>-73.909215</td>\n",
       "      <td>40.812978</td>\n",
       "      <td>24-07-2021 15:53</td>\n",
       "      <td>1.023798</td>\n",
       "      <td>0.368234</td>\n",
       "      <td>22</td>\n",
       "      <td>0.216605</td>\n",
       "      <td>44</td>\n",
       "      <td>0.297667</td>\n",
       "      <td>212</td>\n",
       "      <td>...</td>\n",
       "      <td>1.398909</td>\n",
       "      <td>0.424254</td>\n",
       "      <td>0.270378</td>\n",
       "      <td>0.277005</td>\n",
       "      <td>-0.027547</td>\n",
       "      <td>-0.292817</td>\n",
       "      <td>-0.267428</td>\n",
       "      <td>1.320965</td>\n",
       "      <td>0.415453</td>\n",
       "      <td>0.266131</td>\n",
       "    </tr>\n",
       "    <tr>\n",
       "      <th>2</th>\n",
       "      <td>-73.909242</td>\n",
       "      <td>40.812908</td>\n",
       "      <td>24-07-2021 15:53</td>\n",
       "      <td>1.023798</td>\n",
       "      <td>0.368234</td>\n",
       "      <td>22</td>\n",
       "      <td>0.216605</td>\n",
       "      <td>44</td>\n",
       "      <td>0.297667</td>\n",
       "      <td>212</td>\n",
       "      <td>...</td>\n",
       "      <td>1.395466</td>\n",
       "      <td>0.427988</td>\n",
       "      <td>0.269633</td>\n",
       "      <td>0.274224</td>\n",
       "      <td>-0.026355</td>\n",
       "      <td>-0.290370</td>\n",
       "      <td>-0.266051</td>\n",
       "      <td>1.312612</td>\n",
       "      <td>0.411282</td>\n",
       "      <td>0.267605</td>\n",
       "    </tr>\n",
       "    <tr>\n",
       "      <th>3</th>\n",
       "      <td>-73.909257</td>\n",
       "      <td>40.812845</td>\n",
       "      <td>24-07-2021 15:53</td>\n",
       "      <td>1.021634</td>\n",
       "      <td>0.368234</td>\n",
       "      <td>22</td>\n",
       "      <td>0.216605</td>\n",
       "      <td>44</td>\n",
       "      <td>0.297667</td>\n",
       "      <td>212</td>\n",
       "      <td>...</td>\n",
       "      <td>1.395521</td>\n",
       "      <td>0.431609</td>\n",
       "      <td>0.269457</td>\n",
       "      <td>0.271372</td>\n",
       "      <td>-0.025237</td>\n",
       "      <td>-0.287811</td>\n",
       "      <td>-0.264496</td>\n",
       "      <td>1.304260</td>\n",
       "      <td>0.407004</td>\n",
       "      <td>0.269006</td>\n",
       "    </tr>\n",
       "    <tr>\n",
       "      <th>4</th>\n",
       "      <td>-73.909312</td>\n",
       "      <td>40.812710</td>\n",
       "      <td>24-07-2021 15:53</td>\n",
       "      <td>1.015143</td>\n",
       "      <td>0.368234</td>\n",
       "      <td>22</td>\n",
       "      <td>0.216605</td>\n",
       "      <td>44</td>\n",
       "      <td>0.297667</td>\n",
       "      <td>212</td>\n",
       "      <td>...</td>\n",
       "      <td>1.412134</td>\n",
       "      <td>0.445995</td>\n",
       "      <td>0.264658</td>\n",
       "      <td>0.269524</td>\n",
       "      <td>-0.024744</td>\n",
       "      <td>-0.286155</td>\n",
       "      <td>-0.263275</td>\n",
       "      <td>1.299791</td>\n",
       "      <td>0.404233</td>\n",
       "      <td>0.269614</td>\n",
       "    </tr>\n",
       "    <tr>\n",
       "      <th>...</th>\n",
       "      <td>...</td>\n",
       "      <td>...</td>\n",
       "      <td>...</td>\n",
       "      <td>...</td>\n",
       "      <td>...</td>\n",
       "      <td>...</td>\n",
       "      <td>...</td>\n",
       "      <td>...</td>\n",
       "      <td>...</td>\n",
       "      <td>...</td>\n",
       "      <td>...</td>\n",
       "      <td>...</td>\n",
       "      <td>...</td>\n",
       "      <td>...</td>\n",
       "      <td>...</td>\n",
       "      <td>...</td>\n",
       "      <td>...</td>\n",
       "      <td>...</td>\n",
       "      <td>...</td>\n",
       "      <td>...</td>\n",
       "      <td>...</td>\n",
       "    </tr>\n",
       "    <tr>\n",
       "      <th>9497</th>\n",
       "      <td>-73.957038</td>\n",
       "      <td>40.790360</td>\n",
       "      <td>24-07-2021 15:57</td>\n",
       "      <td>0.972470</td>\n",
       "      <td>0.000000</td>\n",
       "      <td>0</td>\n",
       "      <td>0.032633</td>\n",
       "      <td>5</td>\n",
       "      <td>0.072635</td>\n",
       "      <td>43</td>\n",
       "      <td>...</td>\n",
       "      <td>2.250930</td>\n",
       "      <td>1.022309</td>\n",
       "      <td>-0.007009</td>\n",
       "      <td>0.615822</td>\n",
       "      <td>-0.209359</td>\n",
       "      <td>-0.563587</td>\n",
       "      <td>-0.401615</td>\n",
       "      <td>2.419755</td>\n",
       "      <td>0.923601</td>\n",
       "      <td>0.028209</td>\n",
       "    </tr>\n",
       "    <tr>\n",
       "      <th>9498</th>\n",
       "      <td>-73.957050</td>\n",
       "      <td>40.790333</td>\n",
       "      <td>24-07-2021 15:57</td>\n",
       "      <td>0.972470</td>\n",
       "      <td>0.000000</td>\n",
       "      <td>0</td>\n",
       "      <td>0.032633</td>\n",
       "      <td>5</td>\n",
       "      <td>0.072635</td>\n",
       "      <td>43</td>\n",
       "      <td>...</td>\n",
       "      <td>2.250930</td>\n",
       "      <td>1.022309</td>\n",
       "      <td>-0.007009</td>\n",
       "      <td>0.615822</td>\n",
       "      <td>-0.209359</td>\n",
       "      <td>-0.563587</td>\n",
       "      <td>-0.401615</td>\n",
       "      <td>2.419755</td>\n",
       "      <td>0.923601</td>\n",
       "      <td>0.028209</td>\n",
       "    </tr>\n",
       "    <tr>\n",
       "      <th>9499</th>\n",
       "      <td>-73.957063</td>\n",
       "      <td>40.790308</td>\n",
       "      <td>24-07-2021 15:57</td>\n",
       "      <td>0.972470</td>\n",
       "      <td>0.000000</td>\n",
       "      <td>0</td>\n",
       "      <td>0.032633</td>\n",
       "      <td>5</td>\n",
       "      <td>0.072635</td>\n",
       "      <td>43</td>\n",
       "      <td>...</td>\n",
       "      <td>2.279745</td>\n",
       "      <td>1.021945</td>\n",
       "      <td>-0.007359</td>\n",
       "      <td>0.610143</td>\n",
       "      <td>-0.206614</td>\n",
       "      <td>-0.558750</td>\n",
       "      <td>-0.398094</td>\n",
       "      <td>2.415391</td>\n",
       "      <td>0.915083</td>\n",
       "      <td>0.031928</td>\n",
       "    </tr>\n",
       "    <tr>\n",
       "      <th>9500</th>\n",
       "      <td>-73.957093</td>\n",
       "      <td>40.790270</td>\n",
       "      <td>24-07-2021 15:57</td>\n",
       "      <td>0.981124</td>\n",
       "      <td>0.000000</td>\n",
       "      <td>0</td>\n",
       "      <td>0.032633</td>\n",
       "      <td>5</td>\n",
       "      <td>0.072635</td>\n",
       "      <td>43</td>\n",
       "      <td>...</td>\n",
       "      <td>2.279745</td>\n",
       "      <td>1.021945</td>\n",
       "      <td>-0.007359</td>\n",
       "      <td>0.610143</td>\n",
       "      <td>-0.206614</td>\n",
       "      <td>-0.558750</td>\n",
       "      <td>-0.398094</td>\n",
       "      <td>2.415391</td>\n",
       "      <td>0.915083</td>\n",
       "      <td>0.031928</td>\n",
       "    </tr>\n",
       "    <tr>\n",
       "      <th>9501</th>\n",
       "      <td>-73.957128</td>\n",
       "      <td>40.790237</td>\n",
       "      <td>24-07-2021 15:59</td>\n",
       "      <td>0.983408</td>\n",
       "      <td>0.000000</td>\n",
       "      <td>0</td>\n",
       "      <td>0.032633</td>\n",
       "      <td>5</td>\n",
       "      <td>0.072635</td>\n",
       "      <td>43</td>\n",
       "      <td>...</td>\n",
       "      <td>2.280566</td>\n",
       "      <td>1.024546</td>\n",
       "      <td>-0.008529</td>\n",
       "      <td>0.613380</td>\n",
       "      <td>-0.208088</td>\n",
       "      <td>-0.560919</td>\n",
       "      <td>-0.399456</td>\n",
       "      <td>2.429867</td>\n",
       "      <td>0.919937</td>\n",
       "      <td>0.029809</td>\n",
       "    </tr>\n",
       "  </tbody>\n",
       "</table>\n",
       "<p>9502 rows × 143 columns</p>\n",
       "</div>"
      ],
      "text/plain": [
       "      Longitude   Latitude          datetime  UHI Index  \\\n",
       "0    -73.909167  40.813107  24-07-2021 15:53   1.030289   \n",
       "1    -73.909215  40.812978  24-07-2021 15:53   1.023798   \n",
       "2    -73.909242  40.812908  24-07-2021 15:53   1.023798   \n",
       "3    -73.909257  40.812845  24-07-2021 15:53   1.021634   \n",
       "4    -73.909312  40.812710  24-07-2021 15:53   1.015143   \n",
       "...         ...        ...               ...        ...   \n",
       "9497 -73.957038  40.790360  24-07-2021 15:57   0.972470   \n",
       "9498 -73.957050  40.790333  24-07-2021 15:57   0.972470   \n",
       "9499 -73.957063  40.790308  24-07-2021 15:57   0.972470   \n",
       "9500 -73.957093  40.790270  24-07-2021 15:57   0.981124   \n",
       "9501 -73.957128  40.790237  24-07-2021 15:59   0.983408   \n",
       "\n",
       "      building_coverage_250  building_count_250  building_coverage_500  \\\n",
       "0                  0.368234                  22               0.216605   \n",
       "1                  0.368234                  22               0.216605   \n",
       "2                  0.368234                  22               0.216605   \n",
       "3                  0.368234                  22               0.216605   \n",
       "4                  0.368234                  22               0.216605   \n",
       "...                     ...                 ...                    ...   \n",
       "9497               0.000000                   0               0.032633   \n",
       "9498               0.000000                   0               0.032633   \n",
       "9499               0.000000                   0               0.032633   \n",
       "9500               0.000000                   0               0.032633   \n",
       "9501               0.000000                   0               0.032633   \n",
       "\n",
       "      building_count_500  building_coverage_1000  building_count_1000  ...  \\\n",
       "0                     44                0.297667                  212  ...   \n",
       "1                     44                0.297667                  212  ...   \n",
       "2                     44                0.297667                  212  ...   \n",
       "3                     44                0.297667                  212  ...   \n",
       "4                     44                0.297667                  212  ...   \n",
       "...                  ...                     ...                  ...  ...   \n",
       "9497                   5                0.072635                   43  ...   \n",
       "9498                   5                0.072635                   43  ...   \n",
       "9499                   5                0.072635                   43  ...   \n",
       "9500                   5                0.072635                   43  ...   \n",
       "9501                   5                0.072635                   43  ...   \n",
       "\n",
       "      EVI_buffer300  SAVI_buffer300  NBAI_buffer300  NDVI_buffer500  \\\n",
       "0          1.385567        0.410695        0.274953        0.278454   \n",
       "1          1.398909        0.424254        0.270378        0.277005   \n",
       "2          1.395466        0.427988        0.269633        0.274224   \n",
       "3          1.395521        0.431609        0.269457        0.271372   \n",
       "4          1.412134        0.445995        0.264658        0.269524   \n",
       "...             ...             ...             ...             ...   \n",
       "9497       2.250930        1.022309       -0.007009        0.615822   \n",
       "9498       2.250930        1.022309       -0.007009        0.615822   \n",
       "9499       2.279745        1.021945       -0.007359        0.610143   \n",
       "9500       2.279745        1.021945       -0.007359        0.610143   \n",
       "9501       2.280566        1.024546       -0.008529        0.613380   \n",
       "\n",
       "      NDBI_buffer500  NDWI_buffer500  MNDWI_buffer500  EVI_buffer500  \\\n",
       "0          -0.027976       -0.294164        -0.268398       1.325166   \n",
       "1          -0.027547       -0.292817        -0.267428       1.320965   \n",
       "2          -0.026355       -0.290370        -0.266051       1.312612   \n",
       "3          -0.025237       -0.287811        -0.264496       1.304260   \n",
       "4          -0.024744       -0.286155        -0.263275       1.299791   \n",
       "...              ...             ...              ...            ...   \n",
       "9497       -0.209359       -0.563587        -0.401615       2.419755   \n",
       "9498       -0.209359       -0.563587        -0.401615       2.419755   \n",
       "9499       -0.206614       -0.558750        -0.398094       2.415391   \n",
       "9500       -0.206614       -0.558750        -0.398094       2.415391   \n",
       "9501       -0.208088       -0.560919        -0.399456       2.429867   \n",
       "\n",
       "      SAVI_buffer500  NBAI_buffer500  \n",
       "0           0.417626        0.265604  \n",
       "1           0.415453        0.266131  \n",
       "2           0.411282        0.267605  \n",
       "3           0.407004        0.269006  \n",
       "4           0.404233        0.269614  \n",
       "...              ...             ...  \n",
       "9497        0.923601        0.028209  \n",
       "9498        0.923601        0.028209  \n",
       "9499        0.915083        0.031928  \n",
       "9500        0.915083        0.031928  \n",
       "9501        0.919937        0.029809  \n",
       "\n",
       "[9502 rows x 143 columns]"
      ]
     },
     "execution_count": 5,
     "metadata": {},
     "output_type": "execute_result"
    }
   ],
   "source": [
    "# Take a final look at the data\n",
    "uhi_data"
   ]
  },
  {
   "cell_type": "markdown",
   "metadata": {},
   "source": [
    "<h4 style=\"color:rgb(8, 72, 135)\">4. Quick load data for Machine Learning (Skip all previous steps)</h4>"
   ]
  },
  {
   "cell_type": "code",
   "execution_count": 5,
   "metadata": {},
   "outputs": [],
   "source": [
    "# uhi_data.to_csv('data/processed/uhi_data.csv', index=False)\n",
    "uhi_data= pd.read_csv('data/processed/uhi_data.csv')"
   ]
  },
  {
   "cell_type": "markdown",
   "metadata": {},
   "source": [
    "## III. Machine Learning"
   ]
  },
  {
   "cell_type": "markdown",
   "metadata": {},
   "source": [
    "<h4 style=\"color:rgb(8, 72, 135)\">1. Model training & tuning with all features</h4>\n",
    "\n",
    "Train-test split is conducted using `utils.train_test_splitter` function, which:\n",
    "- Choose the features and target variable by dropping the unnecessary columns and choosing the UHI index as the target variable.\n",
    "- Split data with 70/30 ratio, then scale the data"
   ]
  },
  {
   "cell_type": "code",
   "execution_count": 12,
   "metadata": {},
   "outputs": [],
   "source": [
    "# Retaining only the columns for B01, B06, NDVI, and UHI Index in the dataset.\n",
    "train_data = uhi_data.drop(columns=[\n",
    "    'Longitude', 'Latitude', 'datetime',\n",
    "    ])\n",
    "\n",
    "X = train_data.drop(columns=['UHI Index'])\n",
    "\n",
    "X_train, X_test, y_train, y_test = utils.train_test_spliter(train_data, 'UHI Index')"
   ]
  },
  {
   "cell_type": "markdown",
   "metadata": {},
   "source": [
    "**Train XGB model without tuning**"
   ]
  },
  {
   "cell_type": "code",
   "execution_count": 7,
   "metadata": {},
   "outputs": [
    {
     "name": "stderr",
     "output_type": "stream",
     "text": [
      "Training took 0.40 seconds\n",
      "Fitted model without hyperparameter tuning\n",
      "XGBRegressor(base_score=None, booster=None, callbacks=None,\n",
      "             colsample_bylevel=None, colsample_bynode=None,\n",
      "             colsample_bytree=None, device=None, early_stopping_rounds=None,\n",
      "             enable_categorical=False, eval_metric=None, feature_types=None,\n",
      "             gamma=None, grow_policy=None, importance_type=None,\n",
      "             interaction_constraints=None, learning_rate=None, max_bin=None,\n",
      "             max_cat_threshold=None, max_cat_to_onehot=None,\n",
      "             max_delta_step=None, max_depth=None, max_leaves=None,\n",
      "             min_child_weight=None, missing=nan, monotone_constraints=None,\n",
      "             multi_strategy=None, n_estimators=None, n_jobs=None,\n",
      "             num_parallel_tree=None, random_state=42, ...)\n"
     ]
    }
   ],
   "source": [
    "model_object = Modelling(X_train, X_test, y_train, y_test)\n",
    "model = xgb.XGBRegressor(\n",
    "    objective=\"reg:squarederror\",\n",
    "    random_state=42\n",
    ")\n",
    "xgb_model = model_object.train(model=model)"
   ]
  },
  {
   "cell_type": "code",
   "execution_count": 8,
   "metadata": {},
   "outputs": [
    {
     "name": "stderr",
     "output_type": "stream",
     "text": [
      "Predicting using the original train and test sets...\n",
      "R² Score on train set: 0.9925\n",
      "MAE: 0.0010\n",
      "RMSE: 0.0000\n",
      "R² Score on test set: 0.9407\n",
      "MAE: 0.0030\n",
      "RMSE: 0.0000\n"
     ]
    }
   ],
   "source": [
    "model_object.predict(xgb_model)"
   ]
  },
  {
   "cell_type": "markdown",
   "metadata": {},
   "source": [
    "**Train XGB model with RandomizedSearchCV**"
   ]
  },
  {
   "cell_type": "code",
   "execution_count": 9,
   "metadata": {},
   "outputs": [
    {
     "name": "stdout",
     "output_type": "stream",
     "text": [
      "Fitting 3 folds for each of 10 candidates, totalling 30 fits\n"
     ]
    },
    {
     "name": "stderr",
     "output_type": "stream",
     "text": [
      "Training took 29.71 seconds\n",
      "Fitted model with hyperparameter tuning\n",
      "Best Parameters: {'subsample': 0.75, 'n_estimators': 200, 'min_child_weight': 3, 'max_depth': 15, 'learning_rate': 0.05, 'colsample_bytree': 1}\n",
      "Best Cross-Validation Score: 0.9319124214465311\n"
     ]
    }
   ],
   "source": [
    "# Define the parameter grid for Random Forest\n",
    "param_grid_xgb = {\n",
    "    'max_depth': [9, 12, 15],              # Best max_depth from tuning\n",
    "    'subsample': [0.5, 0.75, 1],             # Best subsample from tuning\n",
    "    'min_child_weight': [0, 1, 2, 3],        # Best min_child_weight from tuning\n",
    "    'colsample_bytree': [0.5, 0.75, 1],      # Best colsample_bytree from tuning\n",
    "    'learning_rate': [0.05, 0.1, 0.15, 0.2],        # Best learning_rate from tuning\n",
    "    'n_estimators': [100, 200, 300],           # Keep the number of estimators \n",
    "}\n",
    "\n",
    "tuned_xgb_model = model_object.train(\n",
    "    model = model,\n",
    "    param_tune=True,\n",
    "    param_grid=param_grid_xgb,\n",
    "    cv=3,\n",
    "    scoring='r2'\n",
    ")"
   ]
  },
  {
   "cell_type": "code",
   "execution_count": 10,
   "metadata": {},
   "outputs": [
    {
     "name": "stderr",
     "output_type": "stream",
     "text": [
      "Predicting using the original train and test sets...\n",
      "R² Score on train set: 0.9992\n",
      "MAE: 0.0003\n",
      "RMSE: 0.0000\n",
      "R² Score on test set: 0.9584\n",
      "MAE: 0.0023\n",
      "RMSE: 0.0000\n"
     ]
    }
   ],
   "source": [
    "model_object.predict(tuned_xgb_model)"
   ]
  },
  {
   "cell_type": "markdown",
   "metadata": {},
   "source": [
    "<h5 style=\"color:rgb(0, 210, 255)\">\n",
    "\n",
    "Model performance improves by 1.8% score after hyperparameter tuning\n",
    "\n",
    "</h5>"
   ]
  },
  {
   "cell_type": "markdown",
   "metadata": {},
   "source": [
    "<h4 style=\"color:rgb(8, 72, 135)\">2. Feature evaluation & Re-train with feature importance</h4>\n",
    "\n",
    "Let's evaluate the model features using SHAP"
   ]
  },
  {
   "cell_type": "code",
   "execution_count": 13,
   "metadata": {},
   "outputs": [
    {
     "data": {
      "image/png": "[encoded data removed]",
      "text/plain": [
       "<Figure size 800x950 with 2 Axes>"
      ]
     },
     "metadata": {},
     "output_type": "display_data"
    }
   ],
   "source": [
    "# Initialize SHAP explainer\n",
    "explainer = shap.Explainer(tuned_xgb_model)\n",
    "shap_values = explainer.shap_values(X_test)\n",
    "\n",
    "# Summary plot (global feature importance)\n",
    "shap.summary_plot(\n",
    "    shap_values,\n",
    "    features = X_test,\n",
    "    feature_names=X.columns\n",
    ")"
   ]
  },
  {
   "cell_type": "markdown",
   "metadata": {},
   "source": [
    "<h5 style=\"color:rgb(0, 210, 255)\">\n",
    "\n",
    "- It's visible that all of the important features to the model are the features with focal buffer applied.\n",
    "- Building count and building coverage generated from the KML data are also important features to the model.\n",
    "\n",
    "</h5>"
   ]
  },
  {
   "cell_type": "code",
   "execution_count": 14,
   "metadata": {},
   "outputs": [
    {
     "data": {
      "text/html": [
       "<div>\n",
       "<style scoped>\n",
       "    .dataframe tbody tr th:only-of-type {\n",
       "        vertical-align: middle;\n",
       "    }\n",
       "\n",
       "    .dataframe tbody tr th {\n",
       "        vertical-align: top;\n",
       "    }\n",
       "\n",
       "    .dataframe thead th {\n",
       "        text-align: right;\n",
       "    }\n",
       "</style>\n",
       "<table border=\"1\" class=\"dataframe\">\n",
       "  <thead>\n",
       "    <tr style=\"text-align: right;\">\n",
       "      <th></th>\n",
       "      <th>feature</th>\n",
       "      <th>feature_importance_value</th>\n",
       "    </tr>\n",
       "  </thead>\n",
       "  <tbody>\n",
       "    <tr>\n",
       "      <th>5</th>\n",
       "      <td>building_count_1000</td>\n",
       "      <td>6.243242e-03</td>\n",
       "    </tr>\n",
       "    <tr>\n",
       "      <th>136</th>\n",
       "      <td>EVI_buffer500</td>\n",
       "      <td>2.548924e-03</td>\n",
       "    </tr>\n",
       "    <tr>\n",
       "      <th>4</th>\n",
       "      <td>building_coverage_1000</td>\n",
       "      <td>1.425261e-03</td>\n",
       "    </tr>\n",
       "    <tr>\n",
       "      <th>2</th>\n",
       "      <td>building_coverage_500</td>\n",
       "      <td>1.241287e-03</td>\n",
       "    </tr>\n",
       "    <tr>\n",
       "      <th>75</th>\n",
       "      <td>B11_buffer500</td>\n",
       "      <td>9.382265e-04</td>\n",
       "    </tr>\n",
       "    <tr>\n",
       "      <th>...</th>\n",
       "      <td>...</td>\n",
       "      <td>...</td>\n",
       "    </tr>\n",
       "    <tr>\n",
       "      <th>123</th>\n",
       "      <td>SAVI_buffer250</td>\n",
       "      <td>3.982170e-08</td>\n",
       "    </tr>\n",
       "    <tr>\n",
       "      <th>102</th>\n",
       "      <td>SAVI_buffer50</td>\n",
       "      <td>0.000000e+00</td>\n",
       "    </tr>\n",
       "    <tr>\n",
       "      <th>116</th>\n",
       "      <td>SAVI_buffer200</td>\n",
       "      <td>0.000000e+00</td>\n",
       "    </tr>\n",
       "    <tr>\n",
       "      <th>137</th>\n",
       "      <td>SAVI_buffer500</td>\n",
       "      <td>0.000000e+00</td>\n",
       "    </tr>\n",
       "    <tr>\n",
       "      <th>109</th>\n",
       "      <td>SAVI_buffer100</td>\n",
       "      <td>0.000000e+00</td>\n",
       "    </tr>\n",
       "  </tbody>\n",
       "</table>\n",
       "<p>139 rows × 2 columns</p>\n",
       "</div>"
      ],
      "text/plain": [
       "                    feature  feature_importance_value\n",
       "5       building_count_1000              6.243242e-03\n",
       "136           EVI_buffer500              2.548924e-03\n",
       "4    building_coverage_1000              1.425261e-03\n",
       "2     building_coverage_500              1.241287e-03\n",
       "75            B11_buffer500              9.382265e-04\n",
       "..                      ...                       ...\n",
       "123          SAVI_buffer250              3.982170e-08\n",
       "102           SAVI_buffer50              0.000000e+00\n",
       "116          SAVI_buffer200              0.000000e+00\n",
       "137          SAVI_buffer500              0.000000e+00\n",
       "109          SAVI_buffer100              0.000000e+00\n",
       "\n",
       "[139 rows x 2 columns]"
      ]
     },
     "execution_count": 14,
     "metadata": {},
     "output_type": "execute_result"
    }
   ],
   "source": [
    "# Get the mean absolute SHAP values for each feature\n",
    "vals = np.abs(shap_values).mean(0)\n",
    "# Create a DataFrame to show feature importance values\n",
    "feature_importance = pd.DataFrame(list(zip(X.columns,vals)),columns=['feature','feature_importance_value'])\n",
    "\n",
    "# Sort the DataFrame by feature importance values\n",
    "feature_importance.sort_values(\n",
    "    by=['feature_importance_value'],\n",
    "    ascending=False,\n",
    "    inplace=True\n",
    "    )\n",
    "feature_importance"
   ]
  },
  {
   "cell_type": "markdown",
   "metadata": {},
   "source": [
    "Retrain the model with the top n features"
   ]
  },
  {
   "cell_type": "code",
   "execution_count": 15,
   "metadata": {},
   "outputs": [
    {
     "name": "stdout",
     "output_type": "stream",
     "text": [
      "Fitting 3 folds for each of 10 candidates, totalling 30 fits\n"
     ]
    },
    {
     "name": "stderr",
     "output_type": "stream",
     "text": [
      "Training took 11.63 seconds\n",
      "Fitted model with hyperparameter tuning\n",
      "Best Parameters: {'subsample': 1, 'n_estimators': 300, 'min_child_weight': 0, 'max_depth': 15, 'learning_rate': 0.05, 'colsample_bytree': 0.5}\n",
      "Best Cross-Validation Score: 0.9404508877722346\n",
      "Predicting using the original train and test sets...\n",
      "R² Score on train set: 0.9990\n",
      "MAE: 0.0004\n",
      "RMSE: 0.0000\n",
      "R² Score on test set: 0.9613\n",
      "MAE: 0.0023\n",
      "RMSE: 0.0000\n"
     ]
    }
   ],
   "source": [
    "# Let's take top 50 features\n",
    "n=50\n",
    "topn = feature_importance[:n]['feature'].tolist()\n",
    "\n",
    "# Retrain the model\n",
    "X_train, X_test, y_train, y_test = utils.train_test_spliter(\n",
    "    train_data[topn + ['UHI Index']], \n",
    "    'UHI Index'\n",
    ")\n",
    "\n",
    "model_object = Modelling(X_train, X_test, y_train, y_test)\n",
    "\n",
    "# Train & tune the model with the top features\n",
    "tuned_xgb_topn = model_object.train(\n",
    "    model = model,\n",
    "    param_tune=True,\n",
    "    param_grid=param_grid_xgb,\n",
    "    cv=3,\n",
    "    scoring='r2'\n",
    ")\n",
    "\n",
    "# Predict with the tuned model\n",
    "model_object.predict(tuned_xgb_topn)"
   ]
  },
  {
   "cell_type": "code",
   "execution_count": 28,
   "metadata": {},
   "outputs": [
    {
     "name": "stderr",
     "output_type": "stream",
     "text": [
      "Model saved to models/tuned_xgb_topn.pkl\n"
     ]
    }
   ],
   "source": [
    "# Let's save the model\n",
    "model_object.save_model(tuned_xgb_topn, 'models/tuned_xgb_topn.pkl')"
   ]
  },
  {
   "cell_type": "markdown",
   "metadata": {},
   "source": [
    "<h5 style=\"color:rgb(0, 210, 255)\">\n",
    "\n",
    "Model performance improves slightly after feature selection.\n",
    "\n",
    "</h5>"
   ]
  },
  {
   "cell_type": "markdown",
   "metadata": {},
   "source": [
    "<h4 style=\"color:rgb(8, 72, 135)\">3. Predict on the competition's test set</h4>"
   ]
  },
  {
   "cell_type": "markdown",
   "metadata": {},
   "source": [
    "**Load the model and skip all the training steps**"
   ]
  },
  {
   "cell_type": "code",
   "execution_count": null,
   "metadata": {},
   "outputs": [],
   "source": [
    "# uhi_data.to_csv('data/processed/uhi_data.csv', index=False)\n",
    "uhi_data= pd.read_csv('data/processed/uhi_data.csv')\n",
    "\n",
    "# Retaining only the columns for B01, B06, NDVI, and UHI Index in the dataset.\n",
    "train_data = uhi_data.drop(columns=[\n",
    "    'Longitude', 'Latitude', 'datetime',\n",
    "    ])\n",
    "X = train_data.drop(columns=['UHI Index'])\n",
    "X_train, X_test, y_train, y_test = utils.train_test_spliter(train_data, 'UHI Index')\n",
    "\n",
    "model_object = Modelling(X_train, X_test, y_train, y_test)\n",
    "tuned_xgb_topn = model_object.load_model('models/tuned_xgb_topn.pkl')"
   ]
  },
  {
   "cell_type": "code",
   "execution_count": 25,
   "metadata": {},
   "outputs": [
    {
     "data": {
      "text/html": [
       "<div>\n",
       "<style scoped>\n",
       "    .dataframe tbody tr th:only-of-type {\n",
       "        vertical-align: middle;\n",
       "    }\n",
       "\n",
       "    .dataframe tbody tr th {\n",
       "        vertical-align: top;\n",
       "    }\n",
       "\n",
       "    .dataframe thead th {\n",
       "        text-align: right;\n",
       "    }\n",
       "</style>\n",
       "<table border=\"1\" class=\"dataframe\">\n",
       "  <thead>\n",
       "    <tr style=\"text-align: right;\">\n",
       "      <th></th>\n",
       "      <th>Longitude</th>\n",
       "      <th>Latitude</th>\n",
       "      <th>UHI Index</th>\n",
       "    </tr>\n",
       "  </thead>\n",
       "  <tbody>\n",
       "    <tr>\n",
       "      <th>0</th>\n",
       "      <td>-73.971665</td>\n",
       "      <td>40.788763</td>\n",
       "      <td>NaN</td>\n",
       "    </tr>\n",
       "    <tr>\n",
       "      <th>1</th>\n",
       "      <td>-73.971928</td>\n",
       "      <td>40.788875</td>\n",
       "      <td>NaN</td>\n",
       "    </tr>\n",
       "    <tr>\n",
       "      <th>2</th>\n",
       "      <td>-73.967080</td>\n",
       "      <td>40.789080</td>\n",
       "      <td>NaN</td>\n",
       "    </tr>\n",
       "    <tr>\n",
       "      <th>3</th>\n",
       "      <td>-73.972550</td>\n",
       "      <td>40.789082</td>\n",
       "      <td>NaN</td>\n",
       "    </tr>\n",
       "    <tr>\n",
       "      <th>4</th>\n",
       "      <td>-73.969697</td>\n",
       "      <td>40.787953</td>\n",
       "      <td>NaN</td>\n",
       "    </tr>\n",
       "  </tbody>\n",
       "</table>\n",
       "</div>"
      ],
      "text/plain": [
       "   Longitude   Latitude  UHI Index\n",
       "0 -73.971665  40.788763        NaN\n",
       "1 -73.971928  40.788875        NaN\n",
       "2 -73.967080  40.789080        NaN\n",
       "3 -73.972550  40.789082        NaN\n",
       "4 -73.969697  40.787953        NaN"
      ]
     },
     "execution_count": 25,
     "metadata": {},
     "output_type": "execute_result"
    }
   ],
   "source": [
    "# Reading the coordinates for the submission\n",
    "test_file = pd.read_csv('data/test/Submission_template.csv')\n",
    "test_file.head()"
   ]
  },
  {
   "cell_type": "code",
   "execution_count": null,
   "metadata": {},
   "outputs": [],
   "source": [
    "# Extracting the band values for the test data\n",
    "manipulator = SatelliteDataManipulator(\n",
    "    sentinel_tiff=\"data/interim/Sen2.tiff\",\n",
    "    landsat_tiff=\"data/interim/Landsat_LST.tiff\",\n",
    "    ground_df_path=\"data/interim/test_ground_df.csv\",\n",
    "    sentinel_bands=sentinel_bands,\n",
    "    landsat_bands=landsat_bands,\n",
    "    buffer_sizes=buffer_sizes\n",
    ")\n",
    "val_data = manipulator.extract_band_values()\n",
    "val_data = manipulator.calc_band_indices(val_data)\n",
    "\n",
    "# Load ground dataset\n",
    "test_ground_df = pd.read_csv(\"data/interim/test_ground_df.csv\")\n",
    "# Simply use `pd.concat` as we've already get the data based on each lon & lat of ground_df\n",
    "test_satground_df = pd.concat([test_ground_df,val_data], axis=1)\n",
    "test_satground_df.head()\n",
    "\n",
    "test_data = test_satground_df"
   ]
  },
  {
   "cell_type": "code",
   "execution_count": null,
   "metadata": {},
   "outputs": [],
   "source": [
    "# or run this to load the test data skipping the extraction\n",
    "# test_data = pd.read_csv('data/test/test_data.csv')"
   ]
  },
  {
   "cell_type": "code",
   "execution_count": null,
   "metadata": {},
   "outputs": [],
   "source": [
    "test_set = test_data.drop(['Longitude', 'Latitude', 'UHI Index'], axis=1)\n",
    "\n",
    "sc = StandardScaler()\n",
    "X_train_scaled = sc.fit_transform(X_train)\n",
    "test_set = test_set[topn]\n",
    "test_set = sc.transform(test_set)\n",
    "\n",
    "final_predictions = tuned_xgb_topn.predict(test_set)\n",
    "final_prediction_series = pd.Series(final_predictions)\n",
    "\n",
    "# Combining the results into dataframe\n",
    "submission_df1 = pd.DataFrame(\n",
    "    {\n",
    "        'Longitude':test_file['Longitude'].values, \n",
    "        'Latitude':test_file['Latitude'].values, \n",
    "        'UHI Index':final_prediction_series.values}\n",
    ")\n",
    "\n",
    "# Dumping the predictions into a csv file.\n",
    "submission_df1.to_csv(\"output/submission1.csv\",index = False)"
   ]
  },
  {
   "cell_type": "markdown",
   "metadata": {},
   "source": [
    "<h4 style=\"color:rgb(8, 72, 135)\">\n",
    "\n",
    "The submission file is uploaded to the competition's submission page and the accuracy score is updated on the leaderboard frequently.\n",
    "\n",
    "At the final day of the competition, our team:\n",
    "\n",
    "- Ranked 67th global among 10,000+ participants (each team max 3 members), \n",
    "- Ranked 7th in Australia\n",
    "- Model accuracy score of 0.968 on competition's test set.\n",
    "\n",
    "</h4>"
   ]
  }
 ],
 "metadata": {
  "kernelspec": {
   "display_name": "data_science",
   "language": "python",
   "name": "python3"
  },
  "language_info": {
   "codemirror_mode": {
    "name": "ipython",
    "version": 3
   },
   "file_extension": ".py",
   "mimetype": "text/x-python",
   "name": "python",
   "nbconvert_exporter": "python",
   "pygments_lexer": "ipython3",
   "version": "3.11.5"
  }
 },
 "nbformat": 4,
 "nbformat_minor": 4
}
