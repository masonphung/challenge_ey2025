{
 "cells": [
  {
   "cell_type": "markdown",
   "id": "9ae802dc-eeb1-4584-9d2d-6489ee5c85c3",
   "metadata": {},
   "source": [
    "# **Load the KML file**"
   ]
  },
  {
   "cell_type": "code",
   "execution_count": 15,
   "id": "fabb1001",
   "metadata": {},
   "outputs": [],
   "source": [
    "import os\n",
    "from fastkml import kml\n",
    "from lxml import etree\n",
    "import numpy as np\n",
    "import pandas as pd"
   ]
  },
  {
   "cell_type": "code",
   "execution_count": null,
   "id": "058e8bc0",
   "metadata": {},
   "outputs": [],
   "source": [
    "# Get the absolute path of the project's root directory\n",
    "project_root = os.path.abspath(os.path.join(os.getcwd(), \"..\"))\n",
    "# Change working directory\n",
    "os.chdir(project_root)"
   ]
  },
  {
   "cell_type": "code",
   "execution_count": 2,
   "id": "26134842-b413-43c1-ae77-f85e78dc0645",
   "metadata": {
    "tags": []
   },
   "outputs": [
    {
     "name": "stdout",
     "output_type": "stream",
     "text": [
      "Folders Found:\n",
      "  Folder Name: Challenge_footprint\n"
     ]
    }
   ],
   "source": [
    "# Path to the KML file\n",
    "file_path = \"data/raw/Building_Footprint.kml\"\n",
    "\n",
    "# Read the KML file as bytes\n",
    "with open(file_path, \"rb\") as file:\n",
    "    kml_data = file.read()\n",
    "\n",
    "# Decode and remove XML declaration (to inspect the raw XML)\n",
    "kml_str = kml_data.decode(\"utf-8\").split(\"?>\", 1)[-1].strip()\n",
    "\n",
    "# Parse KML string using lxml to handle namespaces properly\n",
    "root = etree.fromstring(kml_str)\n",
    "\n",
    "# Use the correct namespace\n",
    "namespace = {'kml': 'http://www.opengis.net/kml/2.2'}\n",
    "\n",
    "# Extract the Folder and Placemark elements\n",
    "folders = root.findall('.//kml:Folder', namespace)\n",
    "\n",
    "# Check if we found folders and placemarks\n",
    "if not folders:\n",
    "    print(\"⚠️ No folders found in the KML file.\")\n",
    "else:\n",
    "    print(\"Folders Found:\")\n",
    "    for folder in folders:\n",
    "        # Safely extract the folder name\n",
    "        folder_name = folder.find('kml:name', namespace)\n",
    "        if folder_name is not None:\n",
    "            print(f\"  Folder Name: {folder_name.text}\")\n",
    "        else:\n",
    "            print(\"  Folder Name: (No name provided)\")\n",
    "\n",
    "        # # Extract placemarks within this folder\n",
    "        # for placemark in folder.findall('kml:Placemark', namespace):\n",
    "        #     # Safely extract the placemark name\n",
    "        #     placemark_name = placemark.find('kml:name', namespace)\n",
    "        #     if placemark_name is not None:\n",
    "        #         placemark_label = placemark_name.text\n",
    "        #     else:\n",
    "        #         placemark_label = \"(No name provided)\"\n",
    "\n",
    "        #     # Print placemark name\n",
    "        #     print(f\"    Placemark Name: {placemark_label}\")\n",
    "            \n",
    "        #     # Extract coordinates or other geometry\n",
    "        #     coordinates = placemark.findall('.//kml:coordinates', namespace)\n",
    "        #     if coordinates:\n",
    "        #         print(\"      Coordinates:\")\n",
    "        #         for coord in coordinates:\n",
    "        #             # Format the coordinates\n",
    "        #             coord_list = coord.text.strip().split()\n",
    "        #             for coordinate in coord_list:\n",
    "        #                 lat, lon = coordinate.split(',')\n",
    "        #                 print(f\"        Latitude: {lat}, Longitude: {lon}\")\n",
    "        #     else:\n",
    "        #         print(\"      Coordinates: (No coordinates found)\")\n"
   ]
  },
  {
   "cell_type": "markdown",
   "id": "7bf998fe-b576-4917-a2e5-d26712a269cc",
   "metadata": {},
   "source": [
    "# **Parse the KML file and extract building footprints**\n"
   ]
  },
  {
   "cell_type": "code",
   "execution_count": 4,
   "id": "7263db96-2d6a-4b1f-a330-a3d18440e9b7",
   "metadata": {
    "tags": []
   },
   "outputs": [
    {
     "name": "stdout",
     "output_type": "stream",
     "text": [
      "Extracted 9436 building footprints.\n"
     ]
    }
   ],
   "source": [
    "from xml.dom import minidom\n",
    "from shapely.geometry import Polygon\n",
    "\n",
    "def parse_kml(file_path):\n",
    "    \"\"\"\n",
    "    Parse a KML file and extract building footprints as polygons.\n",
    "    Handles both two and three component coordinates.\n",
    "    \"\"\"\n",
    "    kml = minidom.parse(file_path)\n",
    "    polygons = []\n",
    "    \n",
    "    # Loop through each Placemark in the KML file\n",
    "    for placemark in kml.getElementsByTagName(\"Placemark\"):\n",
    "        coords_text = placemark.getElementsByTagName(\"coordinates\")[0].firstChild.nodeValue.strip()\n",
    "        \n",
    "        coords = []\n",
    "        for coord in coords_text.split():\n",
    "            # Split each coordinate into components\n",
    "            coord_parts = coord.split(',')\n",
    "            if len(coord_parts) == 2:\n",
    "                lon, lat = map(float, coord_parts)  # Only longitude and latitude\n",
    "            elif len(coord_parts) == 3:\n",
    "                lon, lat, _ = map(float, coord_parts)  # Ignore altitude\n",
    "            else:\n",
    "                continue  # Skip invalid coordinates\n",
    "\n",
    "            coords.append((lon, lat))\n",
    "        \n",
    "        polygons.append(Polygon(coords))  # Create a Polygon for each footprint\n",
    "\n",
    "    return polygons\n",
    "\n",
    "# Parse the KML file\n",
    "polygons = parse_kml(file_path)\n",
    "print(f\"Extracted {len(polygons)} building footprints.\")\n"
   ]
  },
  {
   "cell_type": "markdown",
   "id": "421f77e4-19e7-4ee4-932f-6f6e2e1678a1",
   "metadata": {},
   "source": [
    "# **Calculate Building Coverage**"
   ]
  },
  {
   "cell_type": "markdown",
   "id": "bec8b2b1-119a-4f4e-babc-572a77e878ed",
   "metadata": {
    "tags": []
   },
   "source": [
    "**Define bounding box**"
   ]
  },
  {
   "cell_type": "code",
   "execution_count": 6,
   "id": "0c85f62e-4218-4a0e-9f02-41fbb3c0d481",
   "metadata": {
    "tags": []
   },
   "outputs": [
    {
     "name": "stdout",
     "output_type": "stream",
     "text": [
      "Bounding Box: \n",
      "Min Lat: 40.751285\n",
      "Max Lat: 40.869321\n",
      "Min Lon: -74.0022894813697\n",
      "Max Lon: -73.869205\n"
     ]
    }
   ],
   "source": [
    "def extract_bounding_box(kml_file):\n",
    "    tree = etree.parse(kml_file)\n",
    "    root = tree.getroot()\n",
    "\n",
    "    # Define namespaces\n",
    "    ns = {'kml': 'http://www.opengis.net/kml/2.2'}\n",
    "\n",
    "    # Find all coordinates within the KML file\n",
    "    coords = root.xpath('.//kml:coordinates', namespaces=ns)\n",
    "\n",
    "    min_lat, max_lat = float('inf'), float('-inf')\n",
    "    min_lon, max_lon = float('inf'), float('-inf')\n",
    "\n",
    "    # Iterate through all coordinates and find the bounding box\n",
    "    for coord in coords:\n",
    "        coords_text = coord.text.strip()\n",
    "        for coord_pair in coords_text.split():\n",
    "            coord_values = coord_pair.split(',')\n",
    "            lon = float(coord_values[0])\n",
    "            lat = float(coord_values[1])\n",
    "\n",
    "            # Ignore the altitude (if present)\n",
    "            if len(coord_values) == 3:\n",
    "                _ = coord_values[2]  # We don't need altitude\n",
    "\n",
    "            # Update the bounding box\n",
    "            min_lat = min(min_lat, lat)\n",
    "            max_lat = max(max_lat, lat)\n",
    "            min_lon = min(min_lon, lon)\n",
    "            max_lon = max(max_lon, lon)\n",
    "\n",
    "    return min_lat, max_lat, min_lon, max_lon\n",
    "\n",
    "# Let's use the data\n",
    "min_lat, max_lat, min_lon, max_lon = extract_bounding_box(file_path)\n",
    "print(f\"Bounding Box: \\nMin Lat: {min_lat}\\nMax Lat: {max_lat}\\nMin Lon: {min_lon}\\nMax Lon: {max_lon}\")\n"
   ]
  },
  {
   "cell_type": "markdown",
   "id": "801019bd-864b-4b20-9821-ef18b37d9431",
   "metadata": {},
   "source": [
    "**Create grids within the bounding box**"
   ]
  },
  {
   "cell_type": "code",
   "execution_count": 8,
   "id": "32316794-099b-45d7-bd0b-da54b7b024cb",
   "metadata": {
    "tags": []
   },
   "outputs": [],
   "source": [
    "#Define a function to create a grid of cells within the bounding box\n",
    "def create_grid(min_lat, max_lat, min_lon, max_lon, cell_size=500):\n",
    "    # Convert degrees to meters (approximation at mid-latitude)\n",
    "    lat_to_meters = 111320  # meters per degree of latitude\n",
    "    lon_to_meters = 111320 * np.cos(np.radians((max_lat + min_lat) / 2))  # meters per degree of longitude at mid-latitude\n",
    "    \n",
    "    # Number of grid cells in each direction\n",
    "    n_lat_cells = int((max_lat - min_lat) * lat_to_meters / cell_size)\n",
    "    n_lon_cells = int((max_lon - min_lon) * lon_to_meters / cell_size)\n",
    "    \n",
    "    # Create the grid\n",
    "    grid_cells = []\n",
    "    for i in range(n_lat_cells):\n",
    "        for j in range(n_lon_cells):\n",
    "            # Calculate the bounds of each grid cell\n",
    "            cell_min_lat = min_lat + i * cell_size / lat_to_meters\n",
    "            cell_max_lat = min_lat + (i + 1) * cell_size / lat_to_meters\n",
    "            cell_min_lon = min_lon + j * cell_size / lon_to_meters\n",
    "            cell_max_lon = min_lon + (j + 1) * cell_size / lon_to_meters\n",
    "            \n",
    "            # Create a polygon for the grid cell\n",
    "            grid_cell = box(cell_min_lon, cell_min_lat, cell_max_lon, cell_max_lat)\n",
    "            grid_cells.append(grid_cell)\n",
    "    \n",
    "    return grid_cells"
   ]
  },
  {
   "cell_type": "code",
   "execution_count": 9,
   "id": "57f4e41b-d166-46af-b34e-29eaf03667ed",
   "metadata": {
    "tags": []
   },
   "outputs": [],
   "source": [
    "from shapely.geometry import box\n",
    "\n",
    "def calculate_coverage_with_buffer(building_footprints, grid_cells, buffer_distance=50):\n",
    "    coverage = []\n",
    "    \n",
    "    # Loop over each grid cell and calculate the intersection with building footprints (with buffer)\n",
    "    for cell in grid_cells:\n",
    "        cell_coverage = 0\n",
    "        for building in building_footprints:\n",
    "            # Buffer the building footprint by the given distance (in meters)\n",
    "            buffered_building = building.buffer(buffer_distance)\n",
    "\n",
    "            if buffered_building.intersects(cell):\n",
    "                # Calculate the intersection area between the buffered building and the grid cell\n",
    "                intersection = buffered_building.intersection(cell)\n",
    "                cell_coverage += intersection.area\n",
    "        \n",
    "        # Normalize coverage by dividing by the area of the grid cell\n",
    "        normalized_coverage = cell_coverage / cell.area if cell.area > 0 else 0\n",
    "        coverage.append(normalized_coverage)\n",
    "    \n",
    "    return coverage\n"
   ]
  },
  {
   "cell_type": "code",
   "execution_count": 10,
   "id": "cd3ce68f-8980-4585-8fd2-07d14dc84ebf",
   "metadata": {
    "tags": []
   },
   "outputs": [],
   "source": [
    "# Define the bounding box for the area\n",
    "min_lat, max_lat, min_lon, max_lon = 40.751285, 40.869321, -74.0022894813697, -73.869205\n"
   ]
  },
  {
   "cell_type": "code",
   "execution_count": 11,
   "id": "5b293dea-beff-46e1-a3eb-f45dc3da783f",
   "metadata": {
    "tags": []
   },
   "outputs": [],
   "source": [
    "from shapely.geometry import Polygon, box\n",
    "# Create the grid cells within the bounding box\n",
    "grid_cells = create_grid(min_lat, max_lat, min_lon, max_lon, cell_size=500)\n",
    "\n",
    "# Calculate the building coverage for each grid cell\n",
    "coverage = calculate_coverage_with_buffer(polygons, grid_cells)\n"
   ]
  },
  {
   "cell_type": "code",
   "execution_count": 12,
   "id": "92e9703f-5ebf-480b-a772-6028e34e4eb1",
   "metadata": {
    "tags": []
   },
   "outputs": [
    {
     "data": {
      "text/html": [
       "<div>\n",
       "<style scoped>\n",
       "    .dataframe tbody tr th:only-of-type {\n",
       "        vertical-align: middle;\n",
       "    }\n",
       "\n",
       "    .dataframe tbody tr th {\n",
       "        vertical-align: top;\n",
       "    }\n",
       "\n",
       "    .dataframe thead th {\n",
       "        text-align: right;\n",
       "    }\n",
       "</style>\n",
       "<table border=\"1\" class=\"dataframe\">\n",
       "  <thead>\n",
       "    <tr style=\"text-align: right;\">\n",
       "      <th></th>\n",
       "      <th>Grid Cell ID</th>\n",
       "      <th>Coverage (squaremeters)</th>\n",
       "    </tr>\n",
       "  </thead>\n",
       "  <tbody>\n",
       "    <tr>\n",
       "      <th>0</th>\n",
       "      <td>Grid Cell 1</td>\n",
       "      <td>9436.0</td>\n",
       "    </tr>\n",
       "    <tr>\n",
       "      <th>1</th>\n",
       "      <td>Grid Cell 2</td>\n",
       "      <td>9436.0</td>\n",
       "    </tr>\n",
       "    <tr>\n",
       "      <th>2</th>\n",
       "      <td>Grid Cell 3</td>\n",
       "      <td>9436.0</td>\n",
       "    </tr>\n",
       "    <tr>\n",
       "      <th>3</th>\n",
       "      <td>Grid Cell 4</td>\n",
       "      <td>9436.0</td>\n",
       "    </tr>\n",
       "    <tr>\n",
       "      <th>4</th>\n",
       "      <td>Grid Cell 5</td>\n",
       "      <td>9436.0</td>\n",
       "    </tr>\n",
       "  </tbody>\n",
       "</table>\n",
       "</div>"
      ],
      "text/plain": [
       "  Grid Cell ID  Coverage (squaremeters)\n",
       "0  Grid Cell 1                   9436.0\n",
       "1  Grid Cell 2                   9436.0\n",
       "2  Grid Cell 3                   9436.0\n",
       "3  Grid Cell 4                   9436.0\n",
       "4  Grid Cell 5                   9436.0"
      ]
     },
     "execution_count": 12,
     "metadata": {},
     "output_type": "execute_result"
    }
   ],
   "source": [
    "import pandas as pd\n",
    "# Create a DataFrame to hold the results in a table format\n",
    "grid_cell_ids = [f\"Grid Cell {i+1}\" for i in range(len(grid_cells))]  # Generate unique grid cell identifiers\n",
    "coverage_df = pd.DataFrame({\n",
    "    \"Grid Cell ID\": grid_cell_ids,\n",
    "    \"Coverage (squaremeters)\": coverage  })\n",
    "\n",
    "# Display the table\n",
    "coverage_df.head()"
   ]
  },
  {
   "cell_type": "markdown",
   "id": "11a75857-1dc7-49f0-bcb8-f64b6206f0d8",
   "metadata": {},
   "source": [
    "**Percentage format**"
   ]
  },
  {
   "cell_type": "code",
   "execution_count": 13,
   "id": "e05f4922-3216-4709-a9f2-6b4e0dd356ae",
   "metadata": {
    "tags": []
   },
   "outputs": [
    {
     "name": "stdout",
     "output_type": "stream",
     "text": [
      "  Grid Cell ID  Coverage (sq meters)  Coverage (%)\n",
      "0  Grid Cell 1          0.000000e+00       0.00000\n",
      "1  Grid Cell 2          0.000000e+00       0.00000\n",
      "2  Grid Cell 3          0.000000e+00       0.00000\n",
      "3  Grid Cell 4          0.000000e+00       0.00000\n",
      "4  Grid Cell 5          5.615163e-07       2.10666\n"
     ]
    }
   ],
   "source": [
    "from shapely.geometry import Polygon, box\n",
    "import numpy as np\n",
    "import pandas as pd\n",
    "\n",
    "# Step 1: Function to compute building coverage percentage\n",
    "def calculate_coverage_percentage(building_footprints, grid_cells):\n",
    "    coverage = []\n",
    "    coverage_pct = []\n",
    "\n",
    "    # Compute total area of a single grid cell\n",
    "    cell_area = grid_cells[0].area  # Assuming all grid cells have the same size\n",
    "\n",
    "    for cell in grid_cells:\n",
    "        cell_coverage = 0  # Initialize coverage per cell\n",
    "\n",
    "        for building in building_footprints:\n",
    "            if building.intersects(cell):\n",
    "                intersection = building.intersection(cell)\n",
    "                cell_coverage += intersection.area  # Sum up intersection areas\n",
    "\n",
    "        # Compute coverage percentage\n",
    "        coverage.append(cell_coverage)\n",
    "        coverage_pct.append((cell_coverage / cell_area) * 100 if cell_area > 0 else 0)\n",
    "\n",
    "    return coverage, coverage_pct\n",
    "\n",
    "# Step 2: Compute coverage metrics\n",
    "coverage, coverage_pct = calculate_coverage_percentage(polygons, grid_cells)\n",
    "\n",
    "# Step 3: Create DataFrame\n",
    "grid_cell_ids = [f\"Grid Cell {i+1}\" for i in range(len(grid_cells))]\n",
    "\n",
    "coverage_df = pd.DataFrame({\n",
    "    \"Grid Cell ID\": grid_cell_ids,\n",
    "    \"Coverage (sq meters)\": coverage,\n",
    "    \"Coverage (%)\": coverage_pct\n",
    "})\n",
    "\n",
    "# Display first rows\n",
    "print(coverage_df.head())\n"
   ]
  },
  {
   "cell_type": "code",
   "execution_count": 14,
   "id": "e2e2cb20-d2ec-4bd7-a21e-9ab34082cb1d",
   "metadata": {
    "tags": []
   },
   "outputs": [
    {
     "name": "stdout",
     "output_type": "stream",
     "text": [
      "Grid Cell with Maximum Coverage:\n",
      "Grid Cell ID            Grid Cell 96\n",
      "Coverage (sq meters)        0.000016\n",
      "Coverage (%)                61.33063\n",
      "Name: 95, dtype: object\n"
     ]
    }
   ],
   "source": [
    "# Find the grid cell with the maximum coverage\n",
    "max_coverage_index = coverage_df[\"Coverage (sq meters)\"].idxmax()\n",
    "max_coverage_cell = coverage_df.iloc[max_coverage_index]\n",
    "\n",
    "# Print results\n",
    "print(\"Grid Cell with Maximum Coverage:\")\n",
    "print(max_coverage_cell)\n"
   ]
  },
  {
   "cell_type": "markdown",
   "id": "2038b66c-59a1-4b7c-bcbe-4fcf9fc514a4",
   "metadata": {},
   "source": [
    "# **Assign values to the original dataset**"
   ]
  },
  {
   "cell_type": "code",
   "execution_count": 16,
   "id": "54a889af-4c77-4cf0-9652-acd8bffcab1f",
   "metadata": {
    "tags": []
   },
   "outputs": [],
   "source": [
    "# Step 1: Load the original dataset\n",
    "train_df = pd.read_csv(\"data/raw/Training_data_uhi_index_2025-02-18.csv\")"
   ]
  },
  {
   "cell_type": "code",
   "execution_count": 17,
   "id": "c80c4211-d900-4467-af87-c7ea1e125238",
   "metadata": {
    "tags": []
   },
   "outputs": [
    {
     "data": {
      "text/html": [
       "<div>\n",
       "<style scoped>\n",
       "    .dataframe tbody tr th:only-of-type {\n",
       "        vertical-align: middle;\n",
       "    }\n",
       "\n",
       "    .dataframe tbody tr th {\n",
       "        vertical-align: top;\n",
       "    }\n",
       "\n",
       "    .dataframe thead th {\n",
       "        text-align: right;\n",
       "    }\n",
       "</style>\n",
       "<table border=\"1\" class=\"dataframe\">\n",
       "  <thead>\n",
       "    <tr style=\"text-align: right;\">\n",
       "      <th></th>\n",
       "      <th>Longitude</th>\n",
       "      <th>Latitude</th>\n",
       "      <th>datetime</th>\n",
       "      <th>UHI Index</th>\n",
       "    </tr>\n",
       "  </thead>\n",
       "  <tbody>\n",
       "    <tr>\n",
       "      <th>0</th>\n",
       "      <td>-73.909167</td>\n",
       "      <td>40.813107</td>\n",
       "      <td>24-07-2021 15:53</td>\n",
       "      <td>1.030289</td>\n",
       "    </tr>\n",
       "    <tr>\n",
       "      <th>1</th>\n",
       "      <td>-73.909187</td>\n",
       "      <td>40.813045</td>\n",
       "      <td>24-07-2021 15:53</td>\n",
       "      <td>1.030289</td>\n",
       "    </tr>\n",
       "    <tr>\n",
       "      <th>2</th>\n",
       "      <td>-73.909215</td>\n",
       "      <td>40.812978</td>\n",
       "      <td>24-07-2021 15:53</td>\n",
       "      <td>1.023798</td>\n",
       "    </tr>\n",
       "    <tr>\n",
       "      <th>3</th>\n",
       "      <td>-73.909242</td>\n",
       "      <td>40.812908</td>\n",
       "      <td>24-07-2021 15:53</td>\n",
       "      <td>1.023798</td>\n",
       "    </tr>\n",
       "    <tr>\n",
       "      <th>4</th>\n",
       "      <td>-73.909257</td>\n",
       "      <td>40.812845</td>\n",
       "      <td>24-07-2021 15:53</td>\n",
       "      <td>1.021634</td>\n",
       "    </tr>\n",
       "  </tbody>\n",
       "</table>\n",
       "</div>"
      ],
      "text/plain": [
       "   Longitude   Latitude          datetime  UHI Index\n",
       "0 -73.909167  40.813107  24-07-2021 15:53   1.030289\n",
       "1 -73.909187  40.813045  24-07-2021 15:53   1.030289\n",
       "2 -73.909215  40.812978  24-07-2021 15:53   1.023798\n",
       "3 -73.909242  40.812908  24-07-2021 15:53   1.023798\n",
       "4 -73.909257  40.812845  24-07-2021 15:53   1.021634"
      ]
     },
     "execution_count": 17,
     "metadata": {},
     "output_type": "execute_result"
    }
   ],
   "source": [
    "train_df.head()"
   ]
  },
  {
   "cell_type": "code",
   "execution_count": 23,
   "id": "b78c6900-92f0-467e-90c1-7870cf8dab88",
   "metadata": {
    "tags": []
   },
   "outputs": [
    {
     "name": "stdout",
     "output_type": "stream",
     "text": [
      "   Longitude   Latitude          datetime  UHI Index  building_coverage\n",
      "0 -73.909167  40.813107  24-07-2021 15:53   1.030289           0.000006\n",
      "1 -73.909187  40.813045  24-07-2021 15:53   1.030289           0.000006\n",
      "2 -73.909215  40.812978  24-07-2021 15:53   1.023798           0.000006\n",
      "3 -73.909242  40.812908  24-07-2021 15:53   1.023798           0.000006\n",
      "4 -73.909257  40.812845  24-07-2021 15:53   1.021634           0.000006\n"
     ]
    }
   ],
   "source": [
    "from shapely.geometry import Point\n",
    "\n",
    "# Step 2: Function to assign coverage to longitude and latitude points\n",
    "def assign_coverage_to_points(train_df, grid_cells, coverage):\n",
    "    assigned_coverage = []\n",
    "    \n",
    "    for _, row in train_df.iterrows():\n",
    "        point = Point(row['Longitude'], row['Latitude'])  # create a point from longitude and latitude\n",
    "        \n",
    "        # Check which grid cell the point belongs to\n",
    "        point_coverage = 0  # default coverage is 0 (if the point is not in any grid cell)\n",
    "        for i, grid_cell in enumerate(grid_cells):\n",
    "            if grid_cell.contains(point):\n",
    "                point_coverage = coverage[i]  # assign the coverage from the grid cell\n",
    "                break  # Stop checking further if we find the point in a grid cell\n",
    "        \n",
    "        assigned_coverage.append(point_coverage)\n",
    "    \n",
    "    train_df['building_coverage'] = assigned_coverage  # Assign the calculated coverage to the dataframe\n",
    "    return train_df\n",
    "\n",
    "# Step 3: Apply the function to your dataset\n",
    "ground_df = assign_coverage_to_points(train_df, grid_cells, coverage)\n",
    "\n",
    "# Step 4: Save the updated dataframe with the building coverage column\n",
    "ground_df.to_csv(\"data/interim/ground_df.csv\", index=False)\n",
    "\n",
    "# Preview the updated dataset\n",
    "print(ground_df.head())"
   ]
  },
  {
   "cell_type": "code",
   "execution_count": 21,
   "id": "d8ebea6a-f4d1-49ff-9232-30a9fd9b0315",
   "metadata": {},
   "outputs": [
    {
     "data": {
      "text/html": [
       "<div>\n",
       "<style scoped>\n",
       "    .dataframe tbody tr th:only-of-type {\n",
       "        vertical-align: middle;\n",
       "    }\n",
       "\n",
       "    .dataframe tbody tr th {\n",
       "        vertical-align: top;\n",
       "    }\n",
       "\n",
       "    .dataframe thead th {\n",
       "        text-align: right;\n",
       "    }\n",
       "</style>\n",
       "<table border=\"1\" class=\"dataframe\">\n",
       "  <thead>\n",
       "    <tr style=\"text-align: right;\">\n",
       "      <th></th>\n",
       "      <th>Longitude</th>\n",
       "      <th>Latitude</th>\n",
       "      <th>datetime</th>\n",
       "      <th>UHI Index</th>\n",
       "      <th>building_coverage</th>\n",
       "    </tr>\n",
       "  </thead>\n",
       "  <tbody>\n",
       "    <tr>\n",
       "      <th>0</th>\n",
       "      <td>-73.909167</td>\n",
       "      <td>40.813107</td>\n",
       "      <td>24-07-2021 15:53</td>\n",
       "      <td>1.030289</td>\n",
       "      <td>0.000006</td>\n",
       "    </tr>\n",
       "    <tr>\n",
       "      <th>1</th>\n",
       "      <td>-73.909187</td>\n",
       "      <td>40.813045</td>\n",
       "      <td>24-07-2021 15:53</td>\n",
       "      <td>1.030289</td>\n",
       "      <td>0.000006</td>\n",
       "    </tr>\n",
       "    <tr>\n",
       "      <th>2</th>\n",
       "      <td>-73.909215</td>\n",
       "      <td>40.812978</td>\n",
       "      <td>24-07-2021 15:53</td>\n",
       "      <td>1.023798</td>\n",
       "      <td>0.000006</td>\n",
       "    </tr>\n",
       "    <tr>\n",
       "      <th>3</th>\n",
       "      <td>-73.909242</td>\n",
       "      <td>40.812908</td>\n",
       "      <td>24-07-2021 15:53</td>\n",
       "      <td>1.023798</td>\n",
       "      <td>0.000006</td>\n",
       "    </tr>\n",
       "    <tr>\n",
       "      <th>4</th>\n",
       "      <td>-73.909257</td>\n",
       "      <td>40.812845</td>\n",
       "      <td>24-07-2021 15:53</td>\n",
       "      <td>1.021634</td>\n",
       "      <td>0.000006</td>\n",
       "    </tr>\n",
       "  </tbody>\n",
       "</table>\n",
       "</div>"
      ],
      "text/plain": [
       "   Longitude   Latitude          datetime  UHI Index  building_coverage\n",
       "0 -73.909167  40.813107  24-07-2021 15:53   1.030289           0.000006\n",
       "1 -73.909187  40.813045  24-07-2021 15:53   1.030289           0.000006\n",
       "2 -73.909215  40.812978  24-07-2021 15:53   1.023798           0.000006\n",
       "3 -73.909242  40.812908  24-07-2021 15:53   1.023798           0.000006\n",
       "4 -73.909257  40.812845  24-07-2021 15:53   1.021634           0.000006"
      ]
     },
     "execution_count": 21,
     "metadata": {},
     "output_type": "execute_result"
    }
   ],
   "source": [
    "# Preview the updated dataset\n",
    "ground_df.head()"
   ]
  }
 ],
 "metadata": {
  "kernelspec": {
   "display_name": "data_science",
   "language": "python",
   "name": "python3"
  },
  "language_info": {
   "codemirror_mode": {
    "name": "ipython",
    "version": 3
   },
   "file_extension": ".py",
   "mimetype": "text/x-python",
   "name": "python",
   "nbconvert_exporter": "python",
   "pygments_lexer": "ipython3",
   "version": "3.11.5"
  }
 },
 "nbformat": 4,
 "nbformat_minor": 5
}
