{
 "cells": [
  {
   "cell_type": "markdown",
   "id": "5fb03a3c-4f4a-493f-85cb-d00f5c44ee08",
   "metadata": {},
   "source": [
    "# KML data manipulation process\n",
    "\n",
    "This is where we show our process of manipulating the KML data to get the desired output. In the project notebook, we'll be accessing these functions from `src/kml.py`. Below are the step to process the file:\n",
    "- First, parse the KML file and extract building footprints\n",
    "- Define bounding box and create grids within the bounding box\n",
    "- Define the functions to calculate building coverage in each grid\n",
    "- Find the grid where the corresponding longitude and latitude belong to\n",
    "- Assign the values of building coverage and building count to the original datasets"
   ]
  },
  {
   "cell_type": "code",
   "execution_count": 1,
   "id": "2ea038d1-e64f-4cad-89d2-abd934e88f15",
   "metadata": {
    "tags": []
   },
   "outputs": [
    {
     "name": "stderr",
     "output_type": "stream",
     "text": [
      "/Users/vandinh/anaconda3/lib/python3.11/site-packages/pandas/core/arrays/masked.py:60: UserWarning: Pandas requires version '1.3.6' or newer of 'bottleneck' (version '1.3.5' currently installed).\n",
      "  from pandas.core import (\n"
     ]
    }
   ],
   "source": [
    "import os\n",
    "from fastkml import kml\n",
    "from lxml import etree\n",
    "import numpy as np\n",
    "import pandas as pd\n",
    "from shapely.geometry import Point\n",
    "from shapely.geometry import Polygon, box\n",
    "from xml.dom import minidom\n"
   ]
  },
  {
   "cell_type": "code",
   "execution_count": 2,
   "id": "4fe1f744-f00e-4306-8a54-18fb3529ea0b",
   "metadata": {
    "tags": []
   },
   "outputs": [],
   "source": [
    "# Get the absolute path of the project's root directory\n",
    "project_root = os.path.abspath(os.path.join(os.getcwd(), \"..\"))\n",
    "# Change working directory\n",
    "os.chdir(project_root)"
   ]
  },
  {
   "cell_type": "code",
   "execution_count": 3,
   "id": "8297117e-e2a7-4f04-9b31-19611c74dddc",
   "metadata": {
    "tags": []
   },
   "outputs": [
    {
     "name": "stdout",
     "output_type": "stream",
     "text": [
      "Folders Found:\n",
      "  Folder Name: Challenge_footprint\n"
     ]
    }
   ],
   "source": [
    "# Path to the KML file\n",
    "file_path = \"data/raw/Building_Footprint.kml\"\n",
    "\n",
    "# Read the KML file as bytes\n",
    "with open(file_path, \"rb\") as file:\n",
    "    kml_data = file.read()\n",
    "\n",
    "# Decode and remove XML declaration (to inspect the raw XML)\n",
    "kml_str = kml_data.decode(\"utf-8\").split(\"?>\", 1)[-1].strip()\n",
    "\n",
    "# Parse KML string using lxml to handle namespaces properly\n",
    "root = etree.fromstring(kml_str)\n",
    "\n",
    "# Use the correct namespace\n",
    "namespace = {'kml': 'http://www.opengis.net/kml/2.2'}\n",
    "\n",
    "# Extract the Folder and Placemark elements\n",
    "folders = root.findall('.//kml:Folder', namespace)\n",
    "\n",
    "# Check if we found folders and placemarks\n",
    "if not folders:\n",
    "    print(\"⚠️ No folders found in the KML file.\")\n",
    "else:\n",
    "    print(\"Folders Found:\")\n",
    "    for folder in folders:\n",
    "        # Safely extract the folder name\n",
    "        folder_name = folder.find('kml:name', namespace)\n",
    "        if folder_name is not None:\n",
    "            print(f\"  Folder Name: {folder_name.text}\")\n",
    "        else:\n",
    "            print(\"  Folder Name: (No name provided)\")\n",
    "\n",
    "        # # Extract placemarks within this folder\n",
    "        # for placemark in folder.findall('kml:Placemark', namespace):\n",
    "        #     # Safely extract the placemark name\n",
    "        #     placemark_name = placemark.find('kml:name', namespace)\n",
    "        #     if placemark_name is not None:\n",
    "        #         placemark_label = placemark_name.text\n",
    "        #     else:\n",
    "        #         placemark_label = \"(No name provided)\"\n",
    "\n",
    "        #     # Print placemark name\n",
    "        #     print(f\"    Placemark Name: {placemark_label}\")\n",
    "            \n",
    "        #     # Extract coordinates or other geometry\n",
    "        #     coordinates = placemark.findall('.//kml:coordinates', namespace)\n",
    "        #     if coordinates:\n",
    "        #         print(\"      Coordinates:\")\n",
    "        #         for coord in coordinates:\n",
    "        #             # Format the coordinates\n",
    "        #             coord_list = coord.text.strip().split()\n",
    "        #             for coordinate in coord_list:\n",
    "        #                 lat, lon = coordinate.split(',')\n",
    "        #                 print(f\"        Latitude: {lat}, Longitude: {lon}\")\n",
    "        #     else:\n",
    "        #         print(\"      Coordinates: (No coordinates found)\")\n"
   ]
  },
  {
   "cell_type": "code",
   "execution_count": 4,
   "id": "4fa5c364-5a1c-44f7-94ca-d6d8059f70fd",
   "metadata": {
    "tags": []
   },
   "outputs": [],
   "source": [
    "# Step 1: Load the original dataset\n",
    "train_df = pd.read_csv(\"data/raw/Training_data_uhi_index_2025-02-18.csv\")\n",
    "test_df = pd.read_csv(\"data/test/Submission_template.csv\")"
   ]
  },
  {
   "cell_type": "markdown",
   "id": "a4c8009b-4b2c-47d4-a371-a1cff65d5e39",
   "metadata": {},
   "source": [
    "# **Parse the KML file and extract building footprints**\n"
   ]
  },
  {
   "cell_type": "code",
   "execution_count": 5,
   "id": "50841a1c-fe54-4135-a7db-1243a56031de",
   "metadata": {
    "tags": []
   },
   "outputs": [
    {
     "name": "stdout",
     "output_type": "stream",
     "text": [
      "Extracted 9436 building footprints.\n"
     ]
    }
   ],
   "source": [
    "def parse_kml(file_path):\n",
    "    \"\"\"\n",
    "    Description: Parse a KML file and extract building footprints as polygons.\n",
    "    Handles both two and three component coordinates.\n",
    "    Parameter (str): file_path: The path to KML file\n",
    "    return: polygon (list).\n",
    "    \"\"\"\n",
    "    kml = minidom.parse(file_path)\n",
    "    polygons = []\n",
    "    \n",
    "    # Loop through each Placemark in the KML file\n",
    "    for placemark in kml.getElementsByTagName(\"Placemark\"):\n",
    "        coords_text = placemark.getElementsByTagName(\"coordinates\")[0].firstChild.nodeValue.strip()\n",
    "        \n",
    "        coords = []\n",
    "        for coord in coords_text.split():\n",
    "            # Split each coordinate into components\n",
    "            coord_parts = coord.split(',')\n",
    "            if len(coord_parts) == 2:\n",
    "                lon, lat = map(float, coord_parts)  # Only longitude and latitude\n",
    "            elif len(coord_parts) == 3:\n",
    "                lon, lat, _ = map(float, coord_parts)  # Ignore altitude\n",
    "            else:\n",
    "                continue  # Skip invalid coordinates\n",
    "\n",
    "            coords.append((lon, lat))\n",
    "        \n",
    "        polygons.append(Polygon(coords))  # Create a Polygon for each footprint\n",
    "\n",
    "    return polygons\n",
    "\n",
    "# Parse the KML file\n",
    "polygons = parse_kml(file_path)\n",
    "print(f\"Extracted {len(polygons)} building footprints.\")\n"
   ]
  },
  {
   "cell_type": "markdown",
   "id": "8abe50d2-d8dc-4203-8baf-3129d902af0d",
   "metadata": {
    "tags": []
   },
   "source": [
    "# **Calculate Building Coverage**"
   ]
  },
  {
   "cell_type": "code",
   "execution_count": 6,
   "id": "62f91f4e-3765-458b-9d66-020dd4eeb853",
   "metadata": {
    "tags": []
   },
   "outputs": [
    {
     "name": "stdout",
     "output_type": "stream",
     "text": [
      "Bounding Box: \n",
      "Min Lat: 40.751285\n",
      "Max Lat: 40.869321\n",
      "Min Lon: -74.0022894813697\n",
      "Max Lon: -73.869205\n"
     ]
    }
   ],
   "source": [
    "def extract_bounding_box(kml_file):\n",
    "    tree = etree.parse(kml_file)\n",
    "    root = tree.getroot()\n",
    "    \"\"\"\n",
    "    Extracts the bounding box (minimum and maximum latitude and longitude) \n",
    "    from a KML file.\n",
    "\n",
    "    This function:\n",
    "    1. Parses the KML file and retrieves all coordinate elements.\n",
    "    2. Iterates through the coordinates to determine the min/max latitude and longitude.\n",
    "    3. Ignores altitude values if present.\n",
    "    4. Returns the bounding box as (min_lat, max_lat, min_lon, max_lon).\n",
    "\n",
    "    Parameters:\n",
    "    kml_file (str): The file path to the KML file.\n",
    "\n",
    "    Returns:\n",
    "    tuple: (min_lat, max_lat, min_lon, max_lon) representing the bounding box.\n",
    "\n",
    "    \"\"\"\n",
    "\n",
    "    # Define namespaces\n",
    "    ns = {'kml': 'http://www.opengis.net/kml/2.2'}\n",
    "\n",
    "    # Find all coordinates within the KML file\n",
    "    coords = root.xpath('.//kml:coordinates', namespaces=ns)\n",
    "\n",
    "    min_lat, max_lat = float('inf'), float('-inf')\n",
    "    min_lon, max_lon = float('inf'), float('-inf')\n",
    "\n",
    "    # Iterate through all coordinates and find the bounding box\n",
    "    for coord in coords:\n",
    "        coords_text = coord.text.strip()\n",
    "        for coord_pair in coords_text.split():\n",
    "            coord_values = coord_pair.split(',')\n",
    "            lon = float(coord_values[0])\n",
    "            lat = float(coord_values[1])\n",
    "\n",
    "            # Ignore the altitude (if present)\n",
    "            if len(coord_values) == 3:\n",
    "                _ = coord_values[2]  # We don't need altitude\n",
    "\n",
    "            # Update the bounding box\n",
    "            min_lat = min(min_lat, lat)\n",
    "            max_lat = max(max_lat, lat)\n",
    "            min_lon = min(min_lon, lon)\n",
    "            max_lon = max(max_lon, lon)\n",
    "\n",
    "    return min_lat, max_lat, min_lon, max_lon\n",
    "\n",
    "# Let's use the data\n",
    "min_lat, max_lat, min_lon, max_lon = extract_bounding_box(file_path)\n",
    "print(f\"Bounding Box: \\nMin Lat: {min_lat}\\nMax Lat: {max_lat}\\nMin Lon: {min_lon}\\nMax Lon: {max_lon}\")\n"
   ]
  },
  {
   "cell_type": "code",
   "execution_count": 7,
   "id": "9f599683-70af-4619-a7dc-3b94a2eb9713",
   "metadata": {
    "tags": []
   },
   "outputs": [],
   "source": [
    "# Define a function to create a grid of cells within the bounding box\n",
    "def create_grid(min_lat, max_lat, min_lon, max_lon, cell_size=500):\n",
    "    \"\"\"\n",
    "    Description: Creates a grid of rectangular cells within a given bounding box.\n",
    "\n",
    "    This function:\n",
    "    1. Converts latitude and longitude degrees into approximate meters.\n",
    "    2. Determines the number of grid cells required in both latitude and longitude directions.\n",
    "    3. Iterates through the bounding box to generate individual grid cells.\n",
    "    4. Uses the `shapely.geometry.box` function to create rectangular polygons representing each grid cell.\n",
    "\n",
    "    Parameters:\n",
    "    min_lat (float): Minimum latitude of the bounding box.\n",
    "    max_lat (float): Maximum latitude of the bounding box.\n",
    "    min_lon (float): Minimum longitude of the bounding box.\n",
    "    max_lon (float): Maximum longitude of the bounding box.\n",
    "    cell_size (int, optional): Size of each grid cell in meters (default is 500m).\n",
    "\n",
    "    Returns:\n",
    "    list: A list of `shapely.geometry.Polygon` objects representing the grid cells.\n",
    "    \"\"\"\n",
    "    # Convert degrees to meters (approximation at mid-latitude)\n",
    "    lat_to_meters = 111320  # meters per degree of latitude\n",
    "    lon_to_meters = 111320 * np.cos(np.radians((max_lat + min_lat) / 2))  # meters per degree of longitude at mid-latitude\n",
    "    \n",
    "    # Number of grid cells in each direction\n",
    "    n_lat_cells = int((max_lat - min_lat) * lat_to_meters / cell_size)\n",
    "    n_lon_cells = int((max_lon - min_lon) * lon_to_meters / cell_size)\n",
    "    \n",
    "    # Create the grid\n",
    "    grid_cells = []\n",
    "    for i in range(n_lat_cells):\n",
    "        for j in range(n_lon_cells):\n",
    "            # Calculate the bounds of each grid cell\n",
    "            cell_min_lat = min_lat + i * cell_size / lat_to_meters\n",
    "            cell_max_lat = min_lat + (i + 1) * cell_size / lat_to_meters\n",
    "            cell_min_lon = min_lon + j * cell_size / lon_to_meters\n",
    "            cell_max_lon = min_lon + (j + 1) * cell_size / lon_to_meters\n",
    "            \n",
    "            # Create a polygon for the grid cell\n",
    "            grid_cell = box(cell_min_lon, cell_min_lat, cell_max_lon, cell_max_lat)\n",
    "            grid_cells.append(grid_cell)\n",
    "    \n",
    "    return grid_cells  \n"
   ]
  },
  {
   "cell_type": "code",
   "execution_count": 8,
   "id": "8fc2f2d5-e88f-416c-939a-706e3197027f",
   "metadata": {
    "tags": []
   },
   "outputs": [],
   "source": [
    "\n",
    "# Function to calculate building coverage for each grid cell without buffering\n",
    "def calculate_coverage(building_footprints, grid_cells):\n",
    "    coverage = []\n",
    "    \"\"\"\n",
    "   Description: Calculates the total building coverage area within each grid cell. This function\n",
    "    iterates over each grid cell in the provided list, checks for intersections between the grid cell and building footprints,\n",
    "    computes the intersection area where buildings overlap with the grid cell, and then aggregates the total building coverage per grid cell.\n",
    "\n",
    "    Parameters:\n",
    "    building_footprints: A list of polygons representing building footprints.\n",
    "    grid_cells: A list of polygons representing the grid cells.\n",
    "\n",
    "    Returns:\n",
    "    list: A list of coverage values where each entry corresponds to the total building area within a grid cell.\n",
    "    \"\"\"\n",
    "    # Loop over each grid cell and calculate the intersection with building footprints\n",
    "    for cell in grid_cells:\n",
    "        cell_coverage = 0\n",
    "        for building in building_footprints:\n",
    "            if building.intersects(cell):  # Direct intersection without buffer\n",
    "                # Calculate the intersection area between the building and the grid cell\n",
    "                intersection = building.intersection(cell)\n",
    "                cell_coverage += intersection.area\n",
    "        \n",
    "        # Normalize coverage by dividing by the area of the grid cell\n",
    "        normalized_coverage = cell_coverage / cell.area if cell.area > 0 else 0\n",
    "        coverage.append(normalized_coverage)\n",
    "    \n",
    "    return coverage"
   ]
  },
  {
   "cell_type": "code",
   "execution_count": 9,
   "id": "6b75a8c0-0032-45c0-8642-a54f2460934b",
   "metadata": {
    "tags": []
   },
   "outputs": [],
   "source": [
    "# Function to compute building count per grid cell without buffering\n",
    "def building_count(building_footprints, grid_cells):\n",
    "    building_counts = []\n",
    "    \"\"\" \n",
    "   Description: Computes the number of buildings that intersect each grid cell. This function iterates over a list of grid cells and counts how many building footprints\n",
    "    intersect each grid cell without applying any buffering.\n",
    "\n",
    "    Parameters:\n",
    "    building_footprints (list of shapely.geometry.Polygon): A list of polygons representing building footprints.\n",
    "    grid_cells (list of shapely.geometry.Polygon): A list of polygons representing the grid cells.\n",
    "\n",
    "    Returns:\n",
    "    list: A list where each entry corresponds to the number of buildings intersecting a grid cell.\n",
    "    \"\"\"\n",
    "    \n",
    "    # Loop through grid cells to count how many buildings intersect each grid cell\n",
    "    for cell in grid_cells:\n",
    "        count = sum(1 for building in building_footprints if building.intersects(cell))  # Direct intersection without buffer\n",
    "        building_counts.append(count)\n",
    "    \n",
    "    return building_counts"
   ]
  },
  {
   "cell_type": "markdown",
   "id": "2517c161-e8b2-4f05-a55f-19168b1103d5",
   "metadata": {},
   "source": [
    "## Assign values to the original datasets"
   ]
  },
  {
   "cell_type": "code",
   "execution_count": 10,
   "id": "b28e613d-5bf6-4203-93a9-f18093aa633c",
   "metadata": {
    "tags": []
   },
   "outputs": [],
   "source": [
    "cell_sizes = [500,1000] "
   ]
  },
  {
   "cell_type": "code",
   "execution_count": 11,
   "id": "31303655-7359-431e-90ae-c782486dcbf1",
   "metadata": {
    "tags": []
   },
   "outputs": [],
   "source": [
    "def assign_coverage_and_count_to_points(df, grid_cells, coverage, building_counts):\n",
    "    \"\"\"\n",
    "    Assigns building coverage and building count to each point based on the grid cell it falls into.\n",
    "\n",
    "    Parameters:\n",
    "    df (pd.DataFrame): DataFrame containing 'Longitude' and 'Latitude' columns.\n",
    "    grid_cells (list): List of shapely Polygon objects representing grid cells.\n",
    "    coverage (list): List of coverage values corresponding to each grid cell.\n",
    "    building_counts (list): List of building count values corresponding to each grid cell.\n",
    "\n",
    "    Returns:\n",
    "    pd.DataFrame: A new DataFrame with 'building_coverage' and 'building_count' columns.\n",
    "    \"\"\"\n",
    "    assigned_coverage = []\n",
    "    assigned_building_count = []\n",
    "\n",
    "    for _, row in df.iterrows():\n",
    "        point = Point(row['Longitude'], row['Latitude'])  # Create a point from longitude and latitude\n",
    "        \n",
    "        # Default values if point is not in any grid cell\n",
    "        point_coverage = 0  \n",
    "        point_building_count = 0  \n",
    "\n",
    "        # Check which grid cell the point belongs to\n",
    "        for i, grid_cell in enumerate(grid_cells):\n",
    "            if grid_cell.contains(point):\n",
    "                point_coverage = coverage[i]  \n",
    "                point_building_count = building_counts[i]  \n",
    "                break  # Stop searching once the point is found in a grid cell\n",
    "        \n",
    "        assigned_coverage.append(point_coverage)\n",
    "        assigned_building_count.append(point_building_count)\n",
    "    \n",
    "    # Create a copy of the dataframe to avoid modifying the original\n",
    "    df_copy = df.copy()\n",
    "    \n",
    "    # Add the new columns to the copy of the dataframe\n",
    "    df_copy['building_coverage'] = assigned_coverage\n",
    "    df_copy['building_count'] = assigned_building_count\n",
    "    \n",
    "    return df_copy"
   ]
  },
  {
   "cell_type": "code",
   "execution_count": 12,
   "id": "dd8addc0-572e-477a-9d7f-e9b49420eacb",
   "metadata": {},
   "outputs": [
    {
     "name": "stdout",
     "output_type": "stream",
     "text": [
      "Processing for cell size: 500\n"
     ]
    },
    {
     "name": "stderr",
     "output_type": "stream",
     "text": [
      "/Users/vandinh/anaconda3/lib/python3.11/site-packages/pandas/core/indexes/base.py:7834: RuntimeWarning: invalid value encountered in cast\n",
      "  values = values.astype(str)\n"
     ]
    },
    {
     "name": "stdout",
     "output_type": "stream",
     "text": [
      "Results for cell size: 500\n",
      "   building_coverage  building_count\n",
      "0           0.216605              44\n",
      "1           0.216605              44\n",
      "2           0.216605              44\n",
      "3           0.216605              44\n",
      "4           0.216605              44\n",
      "   building_coverage  building_count\n",
      "0           0.458796              43\n",
      "1           0.458796              43\n",
      "2           0.458796              43\n",
      "3           0.458796              43\n",
      "4           0.458796              43\n",
      "Processing for cell size: 1000\n",
      "Results for cell size: 1000\n",
      "   building_coverage  building_count\n",
      "0           0.297667             212\n",
      "1           0.297667             212\n",
      "2           0.297667             212\n",
      "3           0.297667             212\n",
      "4           0.297667             212\n",
      "   building_coverage  building_count\n",
      "0           0.430795             140\n",
      "1           0.430795             140\n",
      "2           0.430795             140\n",
      "3           0.430795             140\n",
      "4           0.430795             140\n"
     ]
    },
    {
     "name": "stderr",
     "output_type": "stream",
     "text": [
      "/Users/vandinh/anaconda3/lib/python3.11/site-packages/pandas/core/indexes/base.py:7834: RuntimeWarning: invalid value encountered in cast\n",
      "  values = values.astype(str)\n"
     ]
    }
   ],
   "source": [
    "cell_sizes = [500, 1000]\n",
    "\n",
    "for cell_size in cell_sizes:\n",
    "    print(f\"Processing for cell size: {cell_size}\")\n",
    "\n",
    "    # Step 2: Define the bounding box for the area\n",
    "    min_lat, max_lat, min_lon, max_lon = 40.751285, 40.869321, -74.0022894813697, -73.869205\n",
    "\n",
    "    # Step 3: Create the grid cells within the bounding box\n",
    "    grid_cells = create_grid(min_lat, max_lat, min_lon, max_lon, cell_size)\n",
    "\n",
    "    # Calculate the building coverage and count for each grid cell\n",
    "    coverage = calculate_coverage(polygons, grid_cells)\n",
    "    building_counts = building_count(polygons, grid_cells)\n",
    "\n",
    "    # Assign coverage and count to training and test datasets\n",
    "    ground_df_copy = assign_coverage_and_count_to_points(train_df, grid_cells, coverage, building_counts)\n",
    "    test_ground_df_copy = assign_coverage_and_count_to_points(test_df, grid_cells, coverage, building_counts)\n",
    "\n",
    "    # Save the updated datasets\n",
    "    ground_df_copy.to_csv(f\"data/interim/ground_df_{cell_size}.csv\", index=False)\n",
    "    test_ground_df_copy.to_csv(f\"data/interim/test_ground_df_{cell_size}.csv\", index=False)\n",
    "\n",
    "    # Print results inside the loop\n",
    "    print(f\"Results for cell size: {cell_size}\")\n",
    "    print(ground_df_copy[['building_coverage', 'building_count']].head())\n",
    "    print(test_ground_df_copy[['building_coverage', 'building_count']].head())\n"
   ]
  }
 ],
 "metadata": {
  "kernelspec": {
   "display_name": "Python 3 (ipykernel)",
   "language": "python",
   "name": "python3"
  },
  "language_info": {
   "codemirror_mode": {
    "name": "ipython",
    "version": 3
   },
   "file_extension": ".py",
   "mimetype": "text/x-python",
   "name": "python",
   "nbconvert_exporter": "python",
   "pygments_lexer": "ipython3",
   "version": "3.11.5"
  }
 },
 "nbformat": 4,
 "nbformat_minor": 5
}
