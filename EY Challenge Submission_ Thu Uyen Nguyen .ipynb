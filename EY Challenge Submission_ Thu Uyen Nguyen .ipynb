{
 "cells": [
  {
   "cell_type": "code",
   "execution_count": 2,
   "id": "79eef352",
   "metadata": {},
   "outputs": [
    {
     "name": "stdout",
     "output_type": "stream",
     "text": [
      "Requirement already satisfied: numpy in c:\\users\\nguyen thu uyen\\anaconda3\\lib\\site-packages (2.2.3)\n",
      "Requirement already satisfied: pandas in c:\\users\\nguyen thu uyen\\anaconda3\\lib\\site-packages (2.2.3)\n",
      "Requirement already satisfied: openpyxl in c:\\users\\nguyen thu uyen\\anaconda3\\lib\\site-packages (3.1.5)\n",
      "Requirement already satisfied: python-dateutil>=2.8.2 in c:\\users\\nguyen thu uyen\\anaconda3\\lib\\site-packages (from pandas) (2.9.0.post0)\n",
      "Requirement already satisfied: pytz>=2020.1 in c:\\users\\nguyen thu uyen\\anaconda3\\lib\\site-packages (from pandas) (2023.3.post1)\n",
      "Requirement already satisfied: tzdata>=2022.7 in c:\\users\\nguyen thu uyen\\anaconda3\\lib\\site-packages (from pandas) (2023.3)\n",
      "Requirement already satisfied: et-xmlfile in c:\\users\\nguyen thu uyen\\anaconda3\\lib\\site-packages (from openpyxl) (1.1.0)\n",
      "Requirement already satisfied: six>=1.5 in c:\\users\\nguyen thu uyen\\anaconda3\\lib\\site-packages (from python-dateutil>=2.8.2->pandas) (1.16.0)\n"
     ]
    }
   ],
   "source": [
    "!pip install --upgrade numpy pandas openpyxl"
   ]
  },
  {
   "cell_type": "code",
   "execution_count": 3,
   "id": "577b7ffd",
   "metadata": {},
   "outputs": [
    {
     "name": "stdout",
     "output_type": "stream",
     "text": [
      "Requirement already satisfied: openpyxl in c:\\users\\nguyen thu uyen\\anaconda3\\lib\\site-packages (3.1.5)Note: you may need to restart the kernel to use updated packages.\n",
      "\n",
      "Requirement already satisfied: et-xmlfile in c:\\users\\nguyen thu uyen\\anaconda3\\lib\\site-packages (from openpyxl) (1.1.0)\n"
     ]
    }
   ],
   "source": [
    "pip install openpyxl"
   ]
  },
  {
   "cell_type": "code",
   "execution_count": 4,
   "id": "8d34fb72",
   "metadata": {
    "tags": []
   },
   "outputs": [
    {
     "data": {
      "text/html": [
       "<div>\n",
       "<style scoped>\n",
       "    .dataframe tbody tr th:only-of-type {\n",
       "        vertical-align: middle;\n",
       "    }\n",
       "\n",
       "    .dataframe tbody tr th {\n",
       "        vertical-align: top;\n",
       "    }\n",
       "\n",
       "    .dataframe thead th {\n",
       "        text-align: right;\n",
       "    }\n",
       "</style>\n",
       "<table border=\"1\" class=\"dataframe\">\n",
       "  <thead>\n",
       "    <tr style=\"text-align: right;\">\n",
       "      <th></th>\n",
       "      <th>Longitude</th>\n",
       "      <th>Latitude</th>\n",
       "      <th>datetime</th>\n",
       "      <th>UHI Index</th>\n",
       "    </tr>\n",
       "  </thead>\n",
       "  <tbody>\n",
       "    <tr>\n",
       "      <th>0</th>\n",
       "      <td>-73.909167</td>\n",
       "      <td>40.813107</td>\n",
       "      <td>24/07/2021 15:53</td>\n",
       "      <td>1.030289</td>\n",
       "    </tr>\n",
       "    <tr>\n",
       "      <th>1</th>\n",
       "      <td>-73.909187</td>\n",
       "      <td>40.813045</td>\n",
       "      <td>24/07/2021 15:53</td>\n",
       "      <td>1.030289</td>\n",
       "    </tr>\n",
       "    <tr>\n",
       "      <th>2</th>\n",
       "      <td>-73.909215</td>\n",
       "      <td>40.812978</td>\n",
       "      <td>24/07/2021 15:53</td>\n",
       "      <td>1.023798</td>\n",
       "    </tr>\n",
       "    <tr>\n",
       "      <th>3</th>\n",
       "      <td>-73.909242</td>\n",
       "      <td>40.812908</td>\n",
       "      <td>24/07/2021 15:53</td>\n",
       "      <td>1.023798</td>\n",
       "    </tr>\n",
       "    <tr>\n",
       "      <th>4</th>\n",
       "      <td>-73.909257</td>\n",
       "      <td>40.812845</td>\n",
       "      <td>24/07/2021 15:53</td>\n",
       "      <td>1.021634</td>\n",
       "    </tr>\n",
       "  </tbody>\n",
       "</table>\n",
       "</div>"
      ],
      "text/plain": [
       "   Longitude   Latitude          datetime  UHI Index\n",
       "0 -73.909167  40.813107  24/07/2021 15:53   1.030289\n",
       "1 -73.909187  40.813045  24/07/2021 15:53   1.030289\n",
       "2 -73.909215  40.812978  24/07/2021 15:53   1.023798\n",
       "3 -73.909242  40.812908  24/07/2021 15:53   1.023798\n",
       "4 -73.909257  40.812845  24/07/2021 15:53   1.021634"
      ]
     },
     "execution_count": 4,
     "metadata": {},
     "output_type": "execute_result"
    }
   ],
   "source": [
    "import pandas as pd\n",
    "ground_df = pd.read_csv(\"Training_data_uhi_index_2025-02-18.csv\")\n",
    "ground_df.head()"
   ]
  },
  {
   "cell_type": "code",
   "execution_count": 5,
   "id": "5b63dd0d",
   "metadata": {},
   "outputs": [
    {
     "data": {
      "text/plain": [
       "array(['24/07/2021 15:53', '24/07/2021 15:54', '24/07/2021 15:55',\n",
       "       '24/07/2021 15:56', '24/07/2021 15:57', '24/07/2021 15:58',\n",
       "       '24/07/2021 15:59', '24/07/2021 15:01', '24/07/2021 15:02',\n",
       "       '24/07/2021 15:03', '24/07/2021 15:04', '24/07/2021 15:05',\n",
       "       '24/07/2021 15:06', '24/07/2021 15:07', '24/07/2021 15:08',\n",
       "       '24/07/2021 15:09', '24/07/2021 15:11', '24/07/2021 15:12',\n",
       "       '24/07/2021 15:13', '24/07/2021 15:14', '24/07/2021 15:15',\n",
       "       '24/07/2021 15:16', '24/07/2021 15:17', '24/07/2021 15:18',\n",
       "       '24/07/2021 15:19', '24/07/2021 15:20', '24/07/2021 15:21',\n",
       "       '24/07/2021 15:22', '24/07/2021 15:23', '24/07/2021 15:24',\n",
       "       '24/07/2021 15:25', '24/07/2021 15:26', '24/07/2021 15:27',\n",
       "       '24/07/2021 15:28', '24/07/2021 15:29', '24/07/2021 15:30',\n",
       "       '24/07/2021 15:31', '24/07/2021 15:32', '24/07/2021 15:33',\n",
       "       '24/07/2021 15:34', '24/07/2021 15:35', '24/07/2021 15:36',\n",
       "       '24/07/2021 15:37', '24/07/2021 15:38', '24/07/2021 15:39',\n",
       "       '24/07/2021 15:40', '24/07/2021 15:41', '24/07/2021 15:42',\n",
       "       '24/07/2021 15:43', '24/07/2021 15:44', '24/07/2021 15:45',\n",
       "       '24/07/2021 15:46', '24/07/2021 15:47', '24/07/2021 15:48',\n",
       "       '24/07/2021 15:49', '24/07/2021 15:50', '24/07/2021 15:52',\n",
       "       '24/07/2021 15:10', '24/07/2021 15:51'], dtype=object)"
      ]
     },
     "execution_count": 5,
     "metadata": {},
     "output_type": "execute_result"
    }
   ],
   "source": [
    "ground_df[\"datetime\"].unique()"
   ]
  },
  {
   "cell_type": "code",
   "execution_count": 6,
   "id": "3a30012a-c8e2-4f2e-9913-2b6d44998b9f",
   "metadata": {
    "tags": []
   },
   "outputs": [
    {
     "name": "stdout",
     "output_type": "stream",
     "text": [
      "Number of duplicate rows: 0\n"
     ]
    }
   ],
   "source": [
    "duplicate_rows = ground_df.duplicated().sum()\n",
    "print(f\"Number of duplicate rows: {duplicate_rows}\")\n"
   ]
  },
  {
   "cell_type": "code",
   "execution_count": 7,
   "id": "3cdfd797-fa2e-4784-841f-e2b39a0b5d68",
   "metadata": {
    "tags": []
   },
   "outputs": [
    {
     "data": {
      "text/html": [
       "<div>\n",
       "<style scoped>\n",
       "    .dataframe tbody tr th:only-of-type {\n",
       "        vertical-align: middle;\n",
       "    }\n",
       "\n",
       "    .dataframe tbody tr th {\n",
       "        vertical-align: top;\n",
       "    }\n",
       "\n",
       "    .dataframe thead th {\n",
       "        text-align: right;\n",
       "    }\n",
       "</style>\n",
       "<table border=\"1\" class=\"dataframe\">\n",
       "  <thead>\n",
       "    <tr style=\"text-align: right;\">\n",
       "      <th></th>\n",
       "      <th>Longitude</th>\n",
       "      <th>Latitude</th>\n",
       "      <th>datetime</th>\n",
       "      <th>UHI Index</th>\n",
       "      <th>location</th>\n",
       "    </tr>\n",
       "  </thead>\n",
       "  <tbody>\n",
       "    <tr>\n",
       "      <th>0</th>\n",
       "      <td>-73.909167</td>\n",
       "      <td>40.813107</td>\n",
       "      <td>24/07/2021 15:53</td>\n",
       "      <td>1.030289</td>\n",
       "      <td>Bronx</td>\n",
       "    </tr>\n",
       "    <tr>\n",
       "      <th>1</th>\n",
       "      <td>-73.909187</td>\n",
       "      <td>40.813045</td>\n",
       "      <td>24/07/2021 15:53</td>\n",
       "      <td>1.030289</td>\n",
       "      <td>Bronx</td>\n",
       "    </tr>\n",
       "    <tr>\n",
       "      <th>2</th>\n",
       "      <td>-73.909215</td>\n",
       "      <td>40.812978</td>\n",
       "      <td>24/07/2021 15:53</td>\n",
       "      <td>1.023798</td>\n",
       "      <td>Bronx</td>\n",
       "    </tr>\n",
       "    <tr>\n",
       "      <th>3</th>\n",
       "      <td>-73.909242</td>\n",
       "      <td>40.812908</td>\n",
       "      <td>24/07/2021 15:53</td>\n",
       "      <td>1.023798</td>\n",
       "      <td>Bronx</td>\n",
       "    </tr>\n",
       "    <tr>\n",
       "      <th>4</th>\n",
       "      <td>-73.909257</td>\n",
       "      <td>40.812845</td>\n",
       "      <td>24/07/2021 15:53</td>\n",
       "      <td>1.021634</td>\n",
       "      <td>Bronx</td>\n",
       "    </tr>\n",
       "  </tbody>\n",
       "</table>\n",
       "</div>"
      ],
      "text/plain": [
       "   Longitude   Latitude          datetime  UHI Index location\n",
       "0 -73.909167  40.813107  24/07/2021 15:53   1.030289    Bronx\n",
       "1 -73.909187  40.813045  24/07/2021 15:53   1.030289    Bronx\n",
       "2 -73.909215  40.812978  24/07/2021 15:53   1.023798    Bronx\n",
       "3 -73.909242  40.812908  24/07/2021 15:53   1.023798    Bronx\n",
       "4 -73.909257  40.812845  24/07/2021 15:53   1.021634    Bronx"
      ]
     },
     "execution_count": 7,
     "metadata": {},
     "output_type": "execute_result"
    }
   ],
   "source": [
    "import pandas as pd\n",
    "\n",
    "# Define function to classify borough\n",
    "def classify_location(lat, lon):\n",
    "    if 40.70 <= lat <= 40.88 and -74.03 <= lon <= -73.91:\n",
    "        return \"Manhattan\"\n",
    "    elif 40.78 <= lat <= 40.92 and -73.93 <= lon <= -73.76:\n",
    "        return \"Bronx\"\n",
    "    else:\n",
    "        return \"Unknown\"\n",
    "\n",
    "# Apply function to dataset\n",
    "ground_df['location'] = ground_df.apply(lambda row: classify_location(row['Latitude'], row['Longitude']), axis=1)\n",
    "\n",
    "ground_df.head()\n"
   ]
  },
  {
   "cell_type": "code",
   "execution_count": 8,
   "id": "aff5d9cc",
   "metadata": {},
   "outputs": [],
   "source": [
    "# Ensure file path is correct\n",
    "bronx_weather = pd.read_excel(\"NY_Mesonet_Weather.xlsx\", sheet_name=\"Bronx\", engine=\"openpyxl\")\n",
    "manhattan_weather = pd.read_excel(\"NY_Mesonet_Weather.xlsx\", sheet_name=\"Manhattan\", engine=\"openpyxl\")"
   ]
  },
  {
   "cell_type": "code",
   "execution_count": 9,
   "id": "ffefc48b",
   "metadata": {},
   "outputs": [
    {
     "name": "stderr",
     "output_type": "stream",
     "text": [
      "C:\\Users\\Nguyen Thu Uyen\\AppData\\Local\\Temp\\ipykernel_14836\\531226821.py:3: FutureWarning: Parsed string \"2021-07-24 06:00:00 EDT\" included an un-recognized timezone \"EDT\". Dropping unrecognized timezones is deprecated; in a future version this will raise. Instead pass the string without the timezone, then use .tz_localize to convert to a recognized timezone.\n",
      "  bronx_weather[\"Date / Time\"] = pd.to_datetime(bronx_weather[\"Date / Time\"])\n",
      "C:\\Users\\Nguyen Thu Uyen\\AppData\\Local\\Temp\\ipykernel_14836\\531226821.py:4: FutureWarning: Parsed string \"2021-07-24 06:00:00 EDT\" included an un-recognized timezone \"EDT\". Dropping unrecognized timezones is deprecated; in a future version this will raise. Instead pass the string without the timezone, then use .tz_localize to convert to a recognized timezone.\n",
      "  manhattan_weather[\"Date / Time\"] = pd.to_datetime(manhattan_weather[\"Date / Time\"])\n"
     ]
    }
   ],
   "source": [
    "# Convert datetime columns in both datasets\n",
    "ground_df[\"datetime\"] = pd.to_datetime(ground_df[\"datetime\"], format=\"%d/%m/%Y %H:%M\")\n",
    "bronx_weather[\"Date / Time\"] = pd.to_datetime(bronx_weather[\"Date / Time\"])\n",
    "manhattan_weather[\"Date / Time\"] = pd.to_datetime(manhattan_weather[\"Date / Time\"])"
   ]
  },
  {
   "cell_type": "code",
   "execution_count": 10,
   "id": "fe02a379",
   "metadata": {},
   "outputs": [],
   "source": [
    "# Rename the column to 'datetime'\n",
    "bronx_weather = bronx_weather.rename(columns={\"Date / Time\": \"datetime\"})\n",
    "manhattan_weather = manhattan_weather.rename(columns={\"Date / Time\": \"datetime\"})"
   ]
  },
  {
   "cell_type": "code",
   "execution_count": 11,
   "id": "be4f9d48",
   "metadata": {},
   "outputs": [],
   "source": [
    "# Sort datasets by datetime\n",
    "ground_df = ground_df.sort_values(\"datetime\")\n",
    "bronx_weather = bronx_weather.sort_values(\"datetime\")\n",
    "manhattan_weather = manhattan_weather.sort_values(\"datetime\")"
   ]
  },
  {
   "cell_type": "code",
   "execution_count": 12,
   "id": "deda6b92",
   "metadata": {},
   "outputs": [],
   "source": [
    "# Merge Bronx data (nearest datetime)\n",
    "bronx_merged = pd.merge_asof(\n",
    "    ground_df[ground_df[\"location\"] == \"Bronx\"],\n",
    "    bronx_weather,\n",
    "    on=\"datetime\",\n",
    "    direction=\"nearest\"\n",
    ")"
   ]
  },
  {
   "cell_type": "code",
   "execution_count": 13,
   "id": "8bbe3b18",
   "metadata": {},
   "outputs": [
    {
     "data": {
      "text/html": [
       "<div>\n",
       "<style scoped>\n",
       "    .dataframe tbody tr th:only-of-type {\n",
       "        vertical-align: middle;\n",
       "    }\n",
       "\n",
       "    .dataframe tbody tr th {\n",
       "        vertical-align: top;\n",
       "    }\n",
       "\n",
       "    .dataframe thead th {\n",
       "        text-align: right;\n",
       "    }\n",
       "</style>\n",
       "<table border=\"1\" class=\"dataframe\">\n",
       "  <thead>\n",
       "    <tr style=\"text-align: right;\">\n",
       "      <th></th>\n",
       "      <th>Longitude</th>\n",
       "      <th>Latitude</th>\n",
       "      <th>datetime</th>\n",
       "      <th>UHI Index</th>\n",
       "      <th>location</th>\n",
       "      <th>Air Temp at Surface [degC]</th>\n",
       "      <th>Relative Humidity [percent]</th>\n",
       "      <th>Avg Wind Speed [m/s]</th>\n",
       "      <th>Wind Direction [degrees]</th>\n",
       "      <th>Solar Flux [W/m^2]</th>\n",
       "    </tr>\n",
       "  </thead>\n",
       "  <tbody>\n",
       "    <tr>\n",
       "      <th>0</th>\n",
       "      <td>-73.909962</td>\n",
       "      <td>40.803688</td>\n",
       "      <td>2021-07-24 15:01:00</td>\n",
       "      <td>0.998554</td>\n",
       "      <td>Bronx</td>\n",
       "      <td>28.0</td>\n",
       "      <td>40.3</td>\n",
       "      <td>3.0</td>\n",
       "      <td>75</td>\n",
       "      <td>725</td>\n",
       "    </tr>\n",
       "    <tr>\n",
       "      <th>1</th>\n",
       "      <td>-73.909753</td>\n",
       "      <td>40.803593</td>\n",
       "      <td>2021-07-24 15:01:00</td>\n",
       "      <td>0.998554</td>\n",
       "      <td>Bronx</td>\n",
       "      <td>28.0</td>\n",
       "      <td>40.3</td>\n",
       "      <td>3.0</td>\n",
       "      <td>75</td>\n",
       "      <td>725</td>\n",
       "    </tr>\n",
       "    <tr>\n",
       "      <th>2</th>\n",
       "      <td>-73.908127</td>\n",
       "      <td>40.802668</td>\n",
       "      <td>2021-07-24 15:01:00</td>\n",
       "      <td>0.989779</td>\n",
       "      <td>Bronx</td>\n",
       "      <td>28.0</td>\n",
       "      <td>40.3</td>\n",
       "      <td>3.0</td>\n",
       "      <td>75</td>\n",
       "      <td>725</td>\n",
       "    </tr>\n",
       "    <tr>\n",
       "      <th>3</th>\n",
       "      <td>-73.908203</td>\n",
       "      <td>40.802713</td>\n",
       "      <td>2021-07-24 15:01:00</td>\n",
       "      <td>0.991943</td>\n",
       "      <td>Bronx</td>\n",
       "      <td>28.0</td>\n",
       "      <td>40.3</td>\n",
       "      <td>3.0</td>\n",
       "      <td>75</td>\n",
       "      <td>725</td>\n",
       "    </tr>\n",
       "    <tr>\n",
       "      <th>4</th>\n",
       "      <td>-73.908290</td>\n",
       "      <td>40.802758</td>\n",
       "      <td>2021-07-24 15:01:00</td>\n",
       "      <td>0.992063</td>\n",
       "      <td>Bronx</td>\n",
       "      <td>28.0</td>\n",
       "      <td>40.3</td>\n",
       "      <td>3.0</td>\n",
       "      <td>75</td>\n",
       "      <td>725</td>\n",
       "    </tr>\n",
       "  </tbody>\n",
       "</table>\n",
       "</div>"
      ],
      "text/plain": [
       "   Longitude   Latitude            datetime  UHI Index location  \\\n",
       "0 -73.909962  40.803688 2021-07-24 15:01:00   0.998554    Bronx   \n",
       "1 -73.909753  40.803593 2021-07-24 15:01:00   0.998554    Bronx   \n",
       "2 -73.908127  40.802668 2021-07-24 15:01:00   0.989779    Bronx   \n",
       "3 -73.908203  40.802713 2021-07-24 15:01:00   0.991943    Bronx   \n",
       "4 -73.908290  40.802758 2021-07-24 15:01:00   0.992063    Bronx   \n",
       "\n",
       "   Air Temp at Surface [degC]  Relative Humidity [percent]  \\\n",
       "0                        28.0                         40.3   \n",
       "1                        28.0                         40.3   \n",
       "2                        28.0                         40.3   \n",
       "3                        28.0                         40.3   \n",
       "4                        28.0                         40.3   \n",
       "\n",
       "   Avg Wind Speed [m/s]  Wind Direction [degrees]  Solar Flux [W/m^2]  \n",
       "0                   3.0                        75                 725  \n",
       "1                   3.0                        75                 725  \n",
       "2                   3.0                        75                 725  \n",
       "3                   3.0                        75                 725  \n",
       "4                   3.0                        75                 725  "
      ]
     },
     "execution_count": 13,
     "metadata": {},
     "output_type": "execute_result"
    }
   ],
   "source": [
    "bronx_merged.head()"
   ]
  },
  {
   "cell_type": "code",
   "execution_count": 14,
   "id": "0aee5f74",
   "metadata": {},
   "outputs": [],
   "source": [
    "# Merge Manhattan data (nearest datetime)\n",
    "manhattan_merged = pd.merge_asof(\n",
    "    ground_df[ground_df[\"location\"] == \"Manhattan\"],\n",
    "    manhattan_weather,\n",
    "    on=\"datetime\",\n",
    "    direction=\"nearest\"\n",
    ")"
   ]
  },
  {
   "cell_type": "code",
   "execution_count": 15,
   "id": "bd6f41a2",
   "metadata": {},
   "outputs": [
    {
     "data": {
      "text/html": [
       "<div>\n",
       "<style scoped>\n",
       "    .dataframe tbody tr th:only-of-type {\n",
       "        vertical-align: middle;\n",
       "    }\n",
       "\n",
       "    .dataframe tbody tr th {\n",
       "        vertical-align: top;\n",
       "    }\n",
       "\n",
       "    .dataframe thead th {\n",
       "        text-align: right;\n",
       "    }\n",
       "</style>\n",
       "<table border=\"1\" class=\"dataframe\">\n",
       "  <thead>\n",
       "    <tr style=\"text-align: right;\">\n",
       "      <th></th>\n",
       "      <th>Longitude</th>\n",
       "      <th>Latitude</th>\n",
       "      <th>datetime</th>\n",
       "      <th>UHI Index</th>\n",
       "      <th>location</th>\n",
       "      <th>Air Temp at Surface [degC]</th>\n",
       "      <th>Relative Humidity [percent]</th>\n",
       "      <th>Avg Wind Speed [m/s]</th>\n",
       "      <th>Wind Direction [degrees]</th>\n",
       "      <th>Solar Flux [W/m^2]</th>\n",
       "    </tr>\n",
       "  </thead>\n",
       "  <tbody>\n",
       "    <tr>\n",
       "      <th>0</th>\n",
       "      <td>-73.977157</td>\n",
       "      <td>40.771555</td>\n",
       "      <td>2021-07-24 15:01:00</td>\n",
       "      <td>0.975234</td>\n",
       "      <td>Manhattan</td>\n",
       "      <td>26.1</td>\n",
       "      <td>51.1</td>\n",
       "      <td>4.1</td>\n",
       "      <td>139</td>\n",
       "      <td>140</td>\n",
       "    </tr>\n",
       "    <tr>\n",
       "      <th>1</th>\n",
       "      <td>-73.910167</td>\n",
       "      <td>40.803775</td>\n",
       "      <td>2021-07-24 15:01:00</td>\n",
       "      <td>1.000718</td>\n",
       "      <td>Manhattan</td>\n",
       "      <td>26.1</td>\n",
       "      <td>51.1</td>\n",
       "      <td>4.1</td>\n",
       "      <td>139</td>\n",
       "      <td>140</td>\n",
       "    </tr>\n",
       "    <tr>\n",
       "      <th>2</th>\n",
       "      <td>-73.910268</td>\n",
       "      <td>40.803817</td>\n",
       "      <td>2021-07-24 15:01:00</td>\n",
       "      <td>1.000718</td>\n",
       "      <td>Manhattan</td>\n",
       "      <td>26.1</td>\n",
       "      <td>51.1</td>\n",
       "      <td>4.1</td>\n",
       "      <td>139</td>\n",
       "      <td>140</td>\n",
       "    </tr>\n",
       "    <tr>\n",
       "      <th>3</th>\n",
       "      <td>-73.978742</td>\n",
       "      <td>40.771675</td>\n",
       "      <td>2021-07-24 15:01:00</td>\n",
       "      <td>0.975234</td>\n",
       "      <td>Manhattan</td>\n",
       "      <td>26.1</td>\n",
       "      <td>51.1</td>\n",
       "      <td>4.1</td>\n",
       "      <td>139</td>\n",
       "      <td>140</td>\n",
       "    </tr>\n",
       "    <tr>\n",
       "      <th>4</th>\n",
       "      <td>-73.978453</td>\n",
       "      <td>40.771677</td>\n",
       "      <td>2021-07-24 15:01:00</td>\n",
       "      <td>0.970907</td>\n",
       "      <td>Manhattan</td>\n",
       "      <td>26.1</td>\n",
       "      <td>51.1</td>\n",
       "      <td>4.1</td>\n",
       "      <td>139</td>\n",
       "      <td>140</td>\n",
       "    </tr>\n",
       "  </tbody>\n",
       "</table>\n",
       "</div>"
      ],
      "text/plain": [
       "   Longitude   Latitude            datetime  UHI Index   location  \\\n",
       "0 -73.977157  40.771555 2021-07-24 15:01:00   0.975234  Manhattan   \n",
       "1 -73.910167  40.803775 2021-07-24 15:01:00   1.000718  Manhattan   \n",
       "2 -73.910268  40.803817 2021-07-24 15:01:00   1.000718  Manhattan   \n",
       "3 -73.978742  40.771675 2021-07-24 15:01:00   0.975234  Manhattan   \n",
       "4 -73.978453  40.771677 2021-07-24 15:01:00   0.970907  Manhattan   \n",
       "\n",
       "   Air Temp at Surface [degC]  Relative Humidity [percent]  \\\n",
       "0                        26.1                         51.1   \n",
       "1                        26.1                         51.1   \n",
       "2                        26.1                         51.1   \n",
       "3                        26.1                         51.1   \n",
       "4                        26.1                         51.1   \n",
       "\n",
       "   Avg Wind Speed [m/s]  Wind Direction [degrees]  Solar Flux [W/m^2]  \n",
       "0                   4.1                       139                 140  \n",
       "1                   4.1                       139                 140  \n",
       "2                   4.1                       139                 140  \n",
       "3                   4.1                       139                 140  \n",
       "4                   4.1                       139                 140  "
      ]
     },
     "execution_count": 15,
     "metadata": {},
     "output_type": "execute_result"
    }
   ],
   "source": [
    "manhattan_merged.head()"
   ]
  },
  {
   "cell_type": "code",
   "execution_count": 16,
   "id": "a0889f51",
   "metadata": {},
   "outputs": [
    {
     "data": {
      "text/html": [
       "<div>\n",
       "<style scoped>\n",
       "    .dataframe tbody tr th:only-of-type {\n",
       "        vertical-align: middle;\n",
       "    }\n",
       "\n",
       "    .dataframe tbody tr th {\n",
       "        vertical-align: top;\n",
       "    }\n",
       "\n",
       "    .dataframe thead th {\n",
       "        text-align: right;\n",
       "    }\n",
       "</style>\n",
       "<table border=\"1\" class=\"dataframe\">\n",
       "  <thead>\n",
       "    <tr style=\"text-align: right;\">\n",
       "      <th></th>\n",
       "      <th>Longitude</th>\n",
       "      <th>Latitude</th>\n",
       "      <th>datetime</th>\n",
       "      <th>UHI Index</th>\n",
       "      <th>location</th>\n",
       "      <th>Air Temp at Surface [degC]</th>\n",
       "      <th>Relative Humidity [percent]</th>\n",
       "      <th>Avg Wind Speed [m/s]</th>\n",
       "      <th>Wind Direction [degrees]</th>\n",
       "      <th>Solar Flux [W/m^2]</th>\n",
       "    </tr>\n",
       "  </thead>\n",
       "  <tbody>\n",
       "    <tr>\n",
       "      <th>0</th>\n",
       "      <td>-73.909962</td>\n",
       "      <td>40.803688</td>\n",
       "      <td>2021-07-24 15:01:00</td>\n",
       "      <td>0.998554</td>\n",
       "      <td>Bronx</td>\n",
       "      <td>28.0</td>\n",
       "      <td>40.3</td>\n",
       "      <td>3.0</td>\n",
       "      <td>75</td>\n",
       "      <td>725</td>\n",
       "    </tr>\n",
       "    <tr>\n",
       "      <th>1</th>\n",
       "      <td>-73.909753</td>\n",
       "      <td>40.803593</td>\n",
       "      <td>2021-07-24 15:01:00</td>\n",
       "      <td>0.998554</td>\n",
       "      <td>Bronx</td>\n",
       "      <td>28.0</td>\n",
       "      <td>40.3</td>\n",
       "      <td>3.0</td>\n",
       "      <td>75</td>\n",
       "      <td>725</td>\n",
       "    </tr>\n",
       "    <tr>\n",
       "      <th>2</th>\n",
       "      <td>-73.908127</td>\n",
       "      <td>40.802668</td>\n",
       "      <td>2021-07-24 15:01:00</td>\n",
       "      <td>0.989779</td>\n",
       "      <td>Bronx</td>\n",
       "      <td>28.0</td>\n",
       "      <td>40.3</td>\n",
       "      <td>3.0</td>\n",
       "      <td>75</td>\n",
       "      <td>725</td>\n",
       "    </tr>\n",
       "    <tr>\n",
       "      <th>3</th>\n",
       "      <td>-73.908203</td>\n",
       "      <td>40.802713</td>\n",
       "      <td>2021-07-24 15:01:00</td>\n",
       "      <td>0.991943</td>\n",
       "      <td>Bronx</td>\n",
       "      <td>28.0</td>\n",
       "      <td>40.3</td>\n",
       "      <td>3.0</td>\n",
       "      <td>75</td>\n",
       "      <td>725</td>\n",
       "    </tr>\n",
       "    <tr>\n",
       "      <th>4</th>\n",
       "      <td>-73.908290</td>\n",
       "      <td>40.802758</td>\n",
       "      <td>2021-07-24 15:01:00</td>\n",
       "      <td>0.992063</td>\n",
       "      <td>Bronx</td>\n",
       "      <td>28.0</td>\n",
       "      <td>40.3</td>\n",
       "      <td>3.0</td>\n",
       "      <td>75</td>\n",
       "      <td>725</td>\n",
       "    </tr>\n",
       "  </tbody>\n",
       "</table>\n",
       "</div>"
      ],
      "text/plain": [
       "   Longitude   Latitude            datetime  UHI Index location  \\\n",
       "0 -73.909962  40.803688 2021-07-24 15:01:00   0.998554    Bronx   \n",
       "1 -73.909753  40.803593 2021-07-24 15:01:00   0.998554    Bronx   \n",
       "2 -73.908127  40.802668 2021-07-24 15:01:00   0.989779    Bronx   \n",
       "3 -73.908203  40.802713 2021-07-24 15:01:00   0.991943    Bronx   \n",
       "4 -73.908290  40.802758 2021-07-24 15:01:00   0.992063    Bronx   \n",
       "\n",
       "   Air Temp at Surface [degC]  Relative Humidity [percent]  \\\n",
       "0                        28.0                         40.3   \n",
       "1                        28.0                         40.3   \n",
       "2                        28.0                         40.3   \n",
       "3                        28.0                         40.3   \n",
       "4                        28.0                         40.3   \n",
       "\n",
       "   Avg Wind Speed [m/s]  Wind Direction [degrees]  Solar Flux [W/m^2]  \n",
       "0                   3.0                        75                 725  \n",
       "1                   3.0                        75                 725  \n",
       "2                   3.0                        75                 725  \n",
       "3                   3.0                        75                 725  \n",
       "4                   3.0                        75                 725  "
      ]
     },
     "execution_count": 16,
     "metadata": {},
     "output_type": "execute_result"
    }
   ],
   "source": [
    "# Combine both merged datasets\n",
    "merged_df = pd.concat([bronx_merged, manhattan_merged])\n",
    "\n",
    "# Reset index\n",
    "merged_df.reset_index(drop=True, inplace=True)\n",
    "\n",
    "# Display the result\n",
    "merged_df.head()"
   ]
  },
  {
   "cell_type": "code",
   "execution_count": 17,
   "id": "76b6341f",
   "metadata": {},
   "outputs": [
    {
     "data": {
      "text/plain": [
       "(11229, 10)"
      ]
     },
     "execution_count": 17,
     "metadata": {},
     "output_type": "execute_result"
    }
   ],
   "source": [
    "merged_df.shape"
   ]
  },
  {
   "cell_type": "code",
   "execution_count": 18,
   "id": "29249478",
   "metadata": {},
   "outputs": [
    {
     "data": {
      "text/plain": [
       "<DatetimeArray>\n",
       "['2021-07-24 15:01:00', '2021-07-24 15:07:00', '2021-07-24 15:08:00',\n",
       " '2021-07-24 15:09:00', '2021-07-24 15:10:00', '2021-07-24 15:11:00',\n",
       " '2021-07-24 15:12:00', '2021-07-24 15:13:00', '2021-07-24 15:14:00',\n",
       " '2021-07-24 15:15:00', '2021-07-24 15:16:00', '2021-07-24 15:17:00',\n",
       " '2021-07-24 15:18:00', '2021-07-24 15:19:00', '2021-07-24 15:20:00',\n",
       " '2021-07-24 15:21:00', '2021-07-24 15:22:00', '2021-07-24 15:23:00',\n",
       " '2021-07-24 15:24:00', '2021-07-24 15:26:00', '2021-07-24 15:27:00',\n",
       " '2021-07-24 15:28:00', '2021-07-24 15:29:00', '2021-07-24 15:30:00',\n",
       " '2021-07-24 15:31:00', '2021-07-24 15:32:00', '2021-07-24 15:33:00',\n",
       " '2021-07-24 15:34:00', '2021-07-24 15:35:00', '2021-07-24 15:36:00',\n",
       " '2021-07-24 15:37:00', '2021-07-24 15:38:00', '2021-07-24 15:39:00',\n",
       " '2021-07-24 15:40:00', '2021-07-24 15:42:00', '2021-07-24 15:43:00',\n",
       " '2021-07-24 15:44:00', '2021-07-24 15:45:00', '2021-07-24 15:46:00',\n",
       " '2021-07-24 15:47:00', '2021-07-24 15:48:00', '2021-07-24 15:49:00',\n",
       " '2021-07-24 15:50:00', '2021-07-24 15:51:00', '2021-07-24 15:52:00',\n",
       " '2021-07-24 15:53:00', '2021-07-24 15:54:00', '2021-07-24 15:55:00',\n",
       " '2021-07-24 15:56:00', '2021-07-24 15:57:00', '2021-07-24 15:58:00',\n",
       " '2021-07-24 15:59:00', '2021-07-24 15:02:00', '2021-07-24 15:03:00',\n",
       " '2021-07-24 15:04:00', '2021-07-24 15:05:00', '2021-07-24 15:06:00',\n",
       " '2021-07-24 15:25:00', '2021-07-24 15:41:00']\n",
       "Length: 59, dtype: datetime64[ns]"
      ]
     },
     "execution_count": 18,
     "metadata": {},
     "output_type": "execute_result"
    }
   ],
   "source": [
    "merged_df[\"datetime\"].unique()"
   ]
  }
 ],
 "metadata": {
  "kernelspec": {
   "display_name": "Python 3 (ipykernel)",
   "language": "python",
   "name": "python3"
  },
  "language_info": {
   "codemirror_mode": {
    "name": "ipython",
    "version": 3
   },
   "file_extension": ".py",
   "mimetype": "text/x-python",
   "name": "python",
   "nbconvert_exporter": "python",
   "pygments_lexer": "ipython3",
   "version": "3.11.5"
  }
 },
 "nbformat": 4,
 "nbformat_minor": 5
}
